{
 "cells": [
  {
   "cell_type": "code",
   "execution_count": 1,
   "id": "b13fc0b0-be8c-4f9e-a35d-ac1e2ed76790",
   "metadata": {},
   "outputs": [],
   "source": [
    "import pandas as pd\n",
    "from glob import glob"
   ]
  },
  {
   "cell_type": "code",
   "execution_count": 2,
   "id": "72f2b7e1-c324-47b8-a03a-6d59ebd9e5fd",
   "metadata": {},
   "outputs": [],
   "source": [
    "xlsx_files = glob(\"complete_datasets/*.xlsx\")\n",
    "csv_files = glob(\"complete_datasets/*.csv\")\n"
   ]
  },
  {
   "cell_type": "code",
   "execution_count": 5,
   "id": "022938a4-07e7-49ed-acdc-0806be6e7a01",
   "metadata": {},
   "outputs": [
    {
     "data": {
      "text/plain": [
       "['complete_datasets\\\\Congestion Factor dataset.xlsx',\n",
       " 'complete_datasets\\\\Eco-Consciousness dataset.xlsx',\n",
       " 'complete_datasets\\\\Emissions dataset.xlsx',\n",
       " 'complete_datasets\\\\Extra Costs dataset.xlsx',\n",
       " 'complete_datasets\\\\Fare_per_mile dataset.xlsx',\n",
       " 'complete_datasets\\\\Festival_journeys dataset.xlsx']"
      ]
     },
     "execution_count": 5,
     "metadata": {},
     "output_type": "execute_result"
    }
   ],
   "source": [
    "xlsx_files"
   ]
  },
  {
   "cell_type": "code",
   "execution_count": 7,
   "id": "4678c55c-7dbd-45d4-a12e-85e243125e93",
   "metadata": {},
   "outputs": [
    {
     "data": {
      "text/plain": [
       "['complete_datasets\\\\Delay_Emission_Rate dataset.csv',\n",
       " 'complete_datasets\\\\DimLinkCategory dataset.csv',\n",
       " 'complete_datasets\\\\DimLinkType dataset.csv']"
      ]
     },
     "execution_count": 7,
     "metadata": {},
     "output_type": "execute_result"
    }
   ],
   "source": [
    "csv_files"
   ]
  },
  {
   "cell_type": "code",
   "execution_count": 9,
   "id": "c8dcbf76-a110-4842-be2d-c4dfb29194de",
   "metadata": {},
   "outputs": [
    {
     "data": {
      "text/plain": [
       "['complete_datasets\\\\Congestion Factor dataset.xlsx',\n",
       " 'complete_datasets\\\\Eco-Consciousness dataset.xlsx',\n",
       " 'complete_datasets\\\\Emissions dataset.xlsx',\n",
       " 'complete_datasets\\\\Extra Costs dataset.xlsx',\n",
       " 'complete_datasets\\\\Fare_per_mile dataset.xlsx',\n",
       " 'complete_datasets\\\\Festival_journeys dataset.xlsx',\n",
       " 'complete_datasets\\\\Delay_Emission_Rate dataset.csv',\n",
       " 'complete_datasets\\\\DimLinkCategory dataset.csv',\n",
       " 'complete_datasets\\\\DimLinkType dataset.csv']"
      ]
     },
     "execution_count": 9,
     "metadata": {},
     "output_type": "execute_result"
    }
   ],
   "source": [
    "files = xlsx_files + csv_files\n",
    "files"
   ]
  },
  {
   "cell_type": "code",
   "execution_count": 11,
   "id": "f3bbc235-12be-4854-b394-464f690bca27",
   "metadata": {},
   "outputs": [],
   "source": [
    "def subset(paths):\n",
    "    for path in paths:\n",
    "        \n",
    "        if path[-1] == 'x':\n",
    "            file_name = path[18:-5]\n",
    "            df = pd.read_excel(path)\n",
    "            df = df.head(20)\n",
    "            df.to_csv((f'sample_datasets/{file_name}.csv'), index=False) \n",
    "        else:\n",
    "            file_name = path[18:-4]\n",
    "            df = pd.read_csv(path)\n",
    "            df = df.head(20)\n",
    "            df.to_csv((f'sample_datasets/{file_name}.csv'), index=False)"
   ]
  },
  {
   "cell_type": "code",
   "execution_count": 13,
   "id": "efdd371b-a608-4fb4-8382-da7f68aebd6f",
   "metadata": {},
   "outputs": [],
   "source": [
    "subset(files)"
   ]
  }
 ],
 "metadata": {
  "kernelspec": {
   "display_name": "Python [conda env:base] *",
   "language": "python",
   "name": "conda-base-py"
  },
  "language_info": {
   "codemirror_mode": {
    "name": "ipython",
    "version": 3
   },
   "file_extension": ".py",
   "mimetype": "text/x-python",
   "name": "python",
   "nbconvert_exporter": "python",
   "pygments_lexer": "ipython3",
   "version": "3.12.7"
  }
 },
 "nbformat": 4,
 "nbformat_minor": 5
}

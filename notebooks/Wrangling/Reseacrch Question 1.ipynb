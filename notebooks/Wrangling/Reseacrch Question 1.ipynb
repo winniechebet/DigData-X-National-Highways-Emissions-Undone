{
 "cells": [
  {
   "cell_type": "markdown",
   "id": "6580f48e-42ba-437f-a396-a38afd99d42d",
   "metadata": {},
   "source": [
    "# Research Question 1\n",
    "\n",
    "**Question:** Which modes of transport warrant the least time on the road for each unique \"Origin\" location? From the result of this inquiry, is there a mode of transport that proves consistent throughout each unique origin location? Or are they varied?\n",
    "\n",
    "**Approach:** Engineer a \"Speed\" feature from \"Time\" and \"Distance\" to conduct this comparison in an absolute manner\n"
   ]
  },
  {
   "cell_type": "code",
   "execution_count": 2,
   "id": "f02c7b2d-9451-4806-874d-3b65b4db71e3",
   "metadata": {},
   "outputs": [],
   "source": [
    "# Import relevant libraries\n",
    "import pandas as pd\n",
    "import matplotlib.pyplot as plt"
   ]
  },
  {
   "cell_type": "code",
   "execution_count": 3,
   "id": "8d06a879-54d6-462e-abd4-04443b4c853c",
   "metadata": {},
   "outputs": [
    {
     "data": {
      "text/html": [
       "<div>\n",
       "<style scoped>\n",
       "    .dataframe tbody tr th:only-of-type {\n",
       "        vertical-align: middle;\n",
       "    }\n",
       "\n",
       "    .dataframe tbody tr th {\n",
       "        vertical-align: top;\n",
       "    }\n",
       "\n",
       "    .dataframe thead th {\n",
       "        text-align: right;\n",
       "    }\n",
       "</style>\n",
       "<table border=\"1\" class=\"dataframe\">\n",
       "  <thead>\n",
       "    <tr style=\"text-align: right;\">\n",
       "      <th></th>\n",
       "      <th>Origin</th>\n",
       "      <th>Mode of Transport</th>\n",
       "      <th>Distance</th>\n",
       "      <th>Travel Time</th>\n",
       "      <th>Age Group</th>\n",
       "      <th>Weather</th>\n",
       "      <th>Peak/NoPeak</th>\n",
       "      <th>Day</th>\n",
       "    </tr>\n",
       "  </thead>\n",
       "  <tbody>\n",
       "    <tr>\n",
       "      <th>0</th>\n",
       "      <td>Liverpool</td>\n",
       "      <td>Petrol Car</td>\n",
       "      <td>52.8</td>\n",
       "      <td>1.5</td>\n",
       "      <td>18-24</td>\n",
       "      <td>Rain</td>\n",
       "      <td>No Peak</td>\n",
       "      <td>Weekend</td>\n",
       "    </tr>\n",
       "    <tr>\n",
       "      <th>1</th>\n",
       "      <td>Manchester</td>\n",
       "      <td>Bus</td>\n",
       "      <td>88.1</td>\n",
       "      <td>1.8</td>\n",
       "      <td>18-24</td>\n",
       "      <td>Sunny</td>\n",
       "      <td>Peak</td>\n",
       "      <td>Weekend</td>\n",
       "    </tr>\n",
       "    <tr>\n",
       "      <th>2</th>\n",
       "      <td>Liverpool</td>\n",
       "      <td>Petrol Car</td>\n",
       "      <td>82.5</td>\n",
       "      <td>1.5</td>\n",
       "      <td>35-44</td>\n",
       "      <td>Cloudy</td>\n",
       "      <td>Peak</td>\n",
       "      <td>Weekend</td>\n",
       "    </tr>\n",
       "    <tr>\n",
       "      <th>3</th>\n",
       "      <td>Newcastle</td>\n",
       "      <td>Petrol Car</td>\n",
       "      <td>64.2</td>\n",
       "      <td>1.7</td>\n",
       "      <td>55-64</td>\n",
       "      <td>Rain</td>\n",
       "      <td>Peak</td>\n",
       "      <td>Weekday</td>\n",
       "    </tr>\n",
       "    <tr>\n",
       "      <th>4</th>\n",
       "      <td>Newcastle</td>\n",
       "      <td>Petrol Car</td>\n",
       "      <td>115.8</td>\n",
       "      <td>0.7</td>\n",
       "      <td>18-24</td>\n",
       "      <td>Rain</td>\n",
       "      <td>Peak</td>\n",
       "      <td>Weekday</td>\n",
       "    </tr>\n",
       "  </tbody>\n",
       "</table>\n",
       "</div>"
      ],
      "text/plain": [
       "       Origin Mode of Transport  Distance  Travel Time Age Group Weather  \\\n",
       "0   Liverpool        Petrol Car      52.8          1.5     18-24    Rain   \n",
       "1  Manchester               Bus      88.1          1.8     18-24   Sunny   \n",
       "2   Liverpool        Petrol Car      82.5          1.5     35-44  Cloudy   \n",
       "3   Newcastle        Petrol Car      64.2          1.7     55-64    Rain   \n",
       "4   Newcastle        Petrol Car     115.8          0.7     18-24    Rain   \n",
       "\n",
       "  Peak/NoPeak      Day  \n",
       "0     No Peak  Weekend  \n",
       "1        Peak  Weekend  \n",
       "2        Peak  Weekend  \n",
       "3        Peak  Weekday  \n",
       "4        Peak  Weekday  "
      ]
     },
     "execution_count": 3,
     "metadata": {},
     "output_type": "execute_result"
    }
   ],
   "source": [
    "# Load the main dataset \"Festival's Journey\" into a DataFrame\n",
    "journeys_df = pd.read_csv(\"../cleaned_datasets/Festivals_journeys_dataset.csv\")\n",
    "journeys_df.head()"
   ]
  },
  {
   "cell_type": "code",
   "execution_count": 4,
   "id": "f8eef172-1d87-4355-88bd-c2fab970cf4d",
   "metadata": {},
   "outputs": [],
   "source": [
    "# Create \"Speed\" column using \"Time\" and \"Distance\"\n",
    "time = journeys_df[\"Travel Time\"]\n",
    "distance = journeys_df[\"Distance\"]\n",
    "journeys_df[\"Speed\"] = round((distance/time), 2)"
   ]
  },
  {
   "cell_type": "code",
   "execution_count": 5,
   "id": "9cd208d5-62da-4e33-bd45-c08b44f0543f",
   "metadata": {},
   "outputs": [
    {
     "data": {
      "text/html": [
       "<div>\n",
       "<style scoped>\n",
       "    .dataframe tbody tr th:only-of-type {\n",
       "        vertical-align: middle;\n",
       "    }\n",
       "\n",
       "    .dataframe tbody tr th {\n",
       "        vertical-align: top;\n",
       "    }\n",
       "\n",
       "    .dataframe thead th {\n",
       "        text-align: right;\n",
       "    }\n",
       "</style>\n",
       "<table border=\"1\" class=\"dataframe\">\n",
       "  <thead>\n",
       "    <tr style=\"text-align: right;\">\n",
       "      <th></th>\n",
       "      <th>Origin</th>\n",
       "      <th>Mode of Transport</th>\n",
       "      <th>Distance</th>\n",
       "      <th>Travel Time</th>\n",
       "      <th>Age Group</th>\n",
       "      <th>Weather</th>\n",
       "      <th>Peak/NoPeak</th>\n",
       "      <th>Day</th>\n",
       "      <th>Speed</th>\n",
       "    </tr>\n",
       "  </thead>\n",
       "  <tbody>\n",
       "    <tr>\n",
       "      <th>0</th>\n",
       "      <td>Liverpool</td>\n",
       "      <td>Petrol Car</td>\n",
       "      <td>52.8</td>\n",
       "      <td>1.5</td>\n",
       "      <td>18-24</td>\n",
       "      <td>Rain</td>\n",
       "      <td>No Peak</td>\n",
       "      <td>Weekend</td>\n",
       "      <td>35.20</td>\n",
       "    </tr>\n",
       "    <tr>\n",
       "      <th>1</th>\n",
       "      <td>Manchester</td>\n",
       "      <td>Bus</td>\n",
       "      <td>88.1</td>\n",
       "      <td>1.8</td>\n",
       "      <td>18-24</td>\n",
       "      <td>Sunny</td>\n",
       "      <td>Peak</td>\n",
       "      <td>Weekend</td>\n",
       "      <td>48.94</td>\n",
       "    </tr>\n",
       "    <tr>\n",
       "      <th>2</th>\n",
       "      <td>Liverpool</td>\n",
       "      <td>Petrol Car</td>\n",
       "      <td>82.5</td>\n",
       "      <td>1.5</td>\n",
       "      <td>35-44</td>\n",
       "      <td>Cloudy</td>\n",
       "      <td>Peak</td>\n",
       "      <td>Weekend</td>\n",
       "      <td>55.00</td>\n",
       "    </tr>\n",
       "    <tr>\n",
       "      <th>3</th>\n",
       "      <td>Newcastle</td>\n",
       "      <td>Petrol Car</td>\n",
       "      <td>64.2</td>\n",
       "      <td>1.7</td>\n",
       "      <td>55-64</td>\n",
       "      <td>Rain</td>\n",
       "      <td>Peak</td>\n",
       "      <td>Weekday</td>\n",
       "      <td>37.76</td>\n",
       "    </tr>\n",
       "    <tr>\n",
       "      <th>4</th>\n",
       "      <td>Newcastle</td>\n",
       "      <td>Petrol Car</td>\n",
       "      <td>115.8</td>\n",
       "      <td>0.7</td>\n",
       "      <td>18-24</td>\n",
       "      <td>Rain</td>\n",
       "      <td>Peak</td>\n",
       "      <td>Weekday</td>\n",
       "      <td>165.43</td>\n",
       "    </tr>\n",
       "  </tbody>\n",
       "</table>\n",
       "</div>"
      ],
      "text/plain": [
       "       Origin Mode of Transport  Distance  Travel Time Age Group Weather  \\\n",
       "0   Liverpool        Petrol Car      52.8          1.5     18-24    Rain   \n",
       "1  Manchester               Bus      88.1          1.8     18-24   Sunny   \n",
       "2   Liverpool        Petrol Car      82.5          1.5     35-44  Cloudy   \n",
       "3   Newcastle        Petrol Car      64.2          1.7     55-64    Rain   \n",
       "4   Newcastle        Petrol Car     115.8          0.7     18-24    Rain   \n",
       "\n",
       "  Peak/NoPeak      Day   Speed  \n",
       "0     No Peak  Weekend   35.20  \n",
       "1        Peak  Weekend   48.94  \n",
       "2        Peak  Weekend   55.00  \n",
       "3        Peak  Weekday   37.76  \n",
       "4        Peak  Weekday  165.43  "
      ]
     },
     "execution_count": 5,
     "metadata": {},
     "output_type": "execute_result"
    }
   ],
   "source": [
    "# Verify creation of \"Speed\" feature\n",
    "journeys_df.head()"
   ]
  },
  {
   "cell_type": "markdown",
   "id": "e6b70dbe-b3d5-4576-bb72-a2447cfbdc89",
   "metadata": {},
   "source": [
    "# NEEDS EDITING\n",
    "MarkDown explaining why you subsectioned into peak and NoPeak subsets.The answer is because you want to make an accurate comparisonsicnce ita can be easy to get skewed results when amkeing compoarisons along inconsistent lines. the tieon the roadcoud be longer during peak hours than during NoPeak hours. hence its important toseparate the two foraccuracy"
   ]
  },
  {
   "cell_type": "code",
   "execution_count": 7,
   "id": "e8d36064-3b18-44e1-bbe5-dd4cbe3a1731",
   "metadata": {},
   "outputs": [
    {
     "data": {
      "text/plain": [
       "Peak/NoPeak\n",
       "Peak       889\n",
       "No Peak    586\n",
       "Name: count, dtype: int64"
      ]
     },
     "execution_count": 7,
     "metadata": {},
     "output_type": "execute_result"
    }
   ],
   "source": [
    "journeys_df[\"Peak/NoPeak\"].value_counts()"
   ]
  },
  {
   "cell_type": "code",
   "execution_count": 8,
   "id": "3173ef3b-c242-4e0e-bf98-0bb113cf658c",
   "metadata": {},
   "outputs": [
    {
     "data": {
      "text/html": [
       "<div>\n",
       "<style scoped>\n",
       "    .dataframe tbody tr th:only-of-type {\n",
       "        vertical-align: middle;\n",
       "    }\n",
       "\n",
       "    .dataframe tbody tr th {\n",
       "        vertical-align: top;\n",
       "    }\n",
       "\n",
       "    .dataframe thead th {\n",
       "        text-align: right;\n",
       "    }\n",
       "</style>\n",
       "<table border=\"1\" class=\"dataframe\">\n",
       "  <thead>\n",
       "    <tr style=\"text-align: right;\">\n",
       "      <th></th>\n",
       "      <th>Origin</th>\n",
       "      <th>Mode of Transport</th>\n",
       "      <th>Distance</th>\n",
       "      <th>Travel Time</th>\n",
       "      <th>Age Group</th>\n",
       "      <th>Weather</th>\n",
       "      <th>Peak/NoPeak</th>\n",
       "      <th>Day</th>\n",
       "      <th>Speed</th>\n",
       "    </tr>\n",
       "  </thead>\n",
       "  <tbody>\n",
       "    <tr>\n",
       "      <th>1</th>\n",
       "      <td>Manchester</td>\n",
       "      <td>Bus</td>\n",
       "      <td>88.1</td>\n",
       "      <td>1.8</td>\n",
       "      <td>18-24</td>\n",
       "      <td>Sunny</td>\n",
       "      <td>Peak</td>\n",
       "      <td>Weekend</td>\n",
       "      <td>48.94</td>\n",
       "    </tr>\n",
       "    <tr>\n",
       "      <th>2</th>\n",
       "      <td>Liverpool</td>\n",
       "      <td>Petrol Car</td>\n",
       "      <td>82.5</td>\n",
       "      <td>1.5</td>\n",
       "      <td>35-44</td>\n",
       "      <td>Cloudy</td>\n",
       "      <td>Peak</td>\n",
       "      <td>Weekend</td>\n",
       "      <td>55.00</td>\n",
       "    </tr>\n",
       "    <tr>\n",
       "      <th>3</th>\n",
       "      <td>Newcastle</td>\n",
       "      <td>Petrol Car</td>\n",
       "      <td>64.2</td>\n",
       "      <td>1.7</td>\n",
       "      <td>55-64</td>\n",
       "      <td>Rain</td>\n",
       "      <td>Peak</td>\n",
       "      <td>Weekday</td>\n",
       "      <td>37.76</td>\n",
       "    </tr>\n",
       "    <tr>\n",
       "      <th>4</th>\n",
       "      <td>Newcastle</td>\n",
       "      <td>Petrol Car</td>\n",
       "      <td>115.8</td>\n",
       "      <td>0.7</td>\n",
       "      <td>18-24</td>\n",
       "      <td>Rain</td>\n",
       "      <td>Peak</td>\n",
       "      <td>Weekday</td>\n",
       "      <td>165.43</td>\n",
       "    </tr>\n",
       "    <tr>\n",
       "      <th>6</th>\n",
       "      <td>Birmingham</td>\n",
       "      <td>Bus</td>\n",
       "      <td>148.1</td>\n",
       "      <td>1.5</td>\n",
       "      <td>35-44</td>\n",
       "      <td>Rain</td>\n",
       "      <td>Peak</td>\n",
       "      <td>Weekend</td>\n",
       "      <td>98.73</td>\n",
       "    </tr>\n",
       "  </tbody>\n",
       "</table>\n",
       "</div>"
      ],
      "text/plain": [
       "       Origin Mode of Transport  Distance  Travel Time Age Group Weather  \\\n",
       "1  Manchester               Bus      88.1          1.8     18-24   Sunny   \n",
       "2   Liverpool        Petrol Car      82.5          1.5     35-44  Cloudy   \n",
       "3   Newcastle        Petrol Car      64.2          1.7     55-64    Rain   \n",
       "4   Newcastle        Petrol Car     115.8          0.7     18-24    Rain   \n",
       "6  Birmingham               Bus     148.1          1.5     35-44    Rain   \n",
       "\n",
       "  Peak/NoPeak      Day   Speed  \n",
       "1        Peak  Weekend   48.94  \n",
       "2        Peak  Weekend   55.00  \n",
       "3        Peak  Weekday   37.76  \n",
       "4        Peak  Weekday  165.43  \n",
       "6        Peak  Weekend   98.73  "
      ]
     },
     "execution_count": 8,
     "metadata": {},
     "output_type": "execute_result"
    }
   ],
   "source": [
    "# Create \"Peak\" and \"No Peak\" subsets from the \"journeys_df\" dataframe\n",
    "peak_subset = journeys_df[journeys_df[\"Peak/NoPeak\"] == \"Peak\"]\n",
    "no_peak_subset = journeys_df[journeys_df[\"Peak/NoPeak\"] == \"No Peak\"]\n",
    "peak_subset.head()"
   ]
  },
  {
   "cell_type": "code",
   "execution_count": 9,
   "id": "8f83cef1-4b15-44e3-ac0e-0f6c52ea05b3",
   "metadata": {},
   "outputs": [
    {
     "data": {
      "text/html": [
       "<div>\n",
       "<style scoped>\n",
       "    .dataframe tbody tr th:only-of-type {\n",
       "        vertical-align: middle;\n",
       "    }\n",
       "\n",
       "    .dataframe tbody tr th {\n",
       "        vertical-align: top;\n",
       "    }\n",
       "\n",
       "    .dataframe thead th {\n",
       "        text-align: right;\n",
       "    }\n",
       "</style>\n",
       "<table border=\"1\" class=\"dataframe\">\n",
       "  <thead>\n",
       "    <tr style=\"text-align: right;\">\n",
       "      <th></th>\n",
       "      <th>Origin</th>\n",
       "      <th>Mode of Transport</th>\n",
       "      <th>Distance</th>\n",
       "      <th>Travel Time</th>\n",
       "      <th>Age Group</th>\n",
       "      <th>Weather</th>\n",
       "      <th>Peak/NoPeak</th>\n",
       "      <th>Day</th>\n",
       "      <th>Speed</th>\n",
       "    </tr>\n",
       "  </thead>\n",
       "  <tbody>\n",
       "    <tr>\n",
       "      <th>0</th>\n",
       "      <td>Liverpool</td>\n",
       "      <td>Petrol Car</td>\n",
       "      <td>52.8</td>\n",
       "      <td>1.5</td>\n",
       "      <td>18-24</td>\n",
       "      <td>Rain</td>\n",
       "      <td>No Peak</td>\n",
       "      <td>Weekend</td>\n",
       "      <td>35.20</td>\n",
       "    </tr>\n",
       "    <tr>\n",
       "      <th>5</th>\n",
       "      <td>Liverpool</td>\n",
       "      <td>Electric Car</td>\n",
       "      <td>88.4</td>\n",
       "      <td>1.8</td>\n",
       "      <td>35-44</td>\n",
       "      <td>Rain</td>\n",
       "      <td>No Peak</td>\n",
       "      <td>Weekend</td>\n",
       "      <td>49.11</td>\n",
       "    </tr>\n",
       "    <tr>\n",
       "      <th>7</th>\n",
       "      <td>Bristol</td>\n",
       "      <td>Bus</td>\n",
       "      <td>117.0</td>\n",
       "      <td>1.1</td>\n",
       "      <td>55-64</td>\n",
       "      <td>Cloudy</td>\n",
       "      <td>No Peak</td>\n",
       "      <td>Weekday</td>\n",
       "      <td>106.36</td>\n",
       "    </tr>\n",
       "    <tr>\n",
       "      <th>8</th>\n",
       "      <td>Manchester</td>\n",
       "      <td>Bus</td>\n",
       "      <td>86.3</td>\n",
       "      <td>1.1</td>\n",
       "      <td>55-64</td>\n",
       "      <td>Rain</td>\n",
       "      <td>No Peak</td>\n",
       "      <td>Weekend</td>\n",
       "      <td>78.45</td>\n",
       "    </tr>\n",
       "    <tr>\n",
       "      <th>12</th>\n",
       "      <td>Bristol</td>\n",
       "      <td>Petrol Car</td>\n",
       "      <td>75.9</td>\n",
       "      <td>1.5</td>\n",
       "      <td>18-24</td>\n",
       "      <td>Cloudy</td>\n",
       "      <td>No Peak</td>\n",
       "      <td>Weekend</td>\n",
       "      <td>50.60</td>\n",
       "    </tr>\n",
       "  </tbody>\n",
       "</table>\n",
       "</div>"
      ],
      "text/plain": [
       "        Origin Mode of Transport  Distance  Travel Time Age Group Weather  \\\n",
       "0    Liverpool        Petrol Car      52.8          1.5     18-24    Rain   \n",
       "5    Liverpool      Electric Car      88.4          1.8     35-44    Rain   \n",
       "7      Bristol               Bus     117.0          1.1     55-64  Cloudy   \n",
       "8   Manchester               Bus      86.3          1.1     55-64    Rain   \n",
       "12     Bristol        Petrol Car      75.9          1.5     18-24  Cloudy   \n",
       "\n",
       "   Peak/NoPeak      Day   Speed  \n",
       "0      No Peak  Weekend   35.20  \n",
       "5      No Peak  Weekend   49.11  \n",
       "7      No Peak  Weekday  106.36  \n",
       "8      No Peak  Weekend   78.45  \n",
       "12     No Peak  Weekend   50.60  "
      ]
     },
     "execution_count": 9,
     "metadata": {},
     "output_type": "execute_result"
    }
   ],
   "source": [
    "no_peak_subset.head()"
   ]
  },
  {
   "cell_type": "code",
   "execution_count": 10,
   "id": "a153c287-947e-4893-84a2-04e318a17b7e",
   "metadata": {},
   "outputs": [
    {
     "data": {
      "text/plain": [
       "['Petrol Car', 'Bus', 'Electric Car', 'Train', 'Walk']"
      ]
     },
     "execution_count": 10,
     "metadata": {},
     "output_type": "execute_result"
    }
   ],
   "source": [
    "# Distinct Modes of Transport in the dataset\n",
    "MoTs = list(journeys_df[\"Mode of Transport\"].unique())\n",
    "MoTs"
   ]
  },
  {
   "cell_type": "code",
   "execution_count": 11,
   "id": "dc3f389a-754e-446f-9129-ca4004192bd5",
   "metadata": {},
   "outputs": [],
   "source": [
    "# Instantiate a function to process a comparison of Travel Time based on the MoT used and the location of Origin\n",
    "def Travel_time_comparison(df):\n",
    "    # Inspect which Mode of Transport is the fastest regardless of the place of origin\n",
    "    unique_MoT_subsets = {}\n",
    "    # Loop over the list of \"MoTs\"\n",
    "    for MoT in MoTs:\n",
    "        # Create subsets of journeys_df containing only a single, unique MoT\n",
    "        MoT_mask = df[df[\"Mode of Transport\"] == MoT]\n",
    "        # Get the average speed of the unique MoT from each unique origin. \n",
    "        speed_by_MoT_and_origin = MoT_mask.groupby(\"Origin\")[\"Travel Time\"].mean()\n",
    "        # Append \"speed_by_MoT_and_origin\" group to \"unique_MoT_subsets\" dictionary\n",
    "        unique_MoT_subsets[f\"{MoT} Travel Time\"] = speed_by_MoT_and_origin    \n",
    "        \n",
    "    return unique_MoT_subsets"
   ]
  },
  {
   "cell_type": "code",
   "execution_count": 12,
   "id": "5d52cf72-d989-4888-82a2-8413e0e8bfe1",
   "metadata": {},
   "outputs": [
    {
     "data": {
      "image/png": "[encoded data removed]",
      "text/plain": [
       "<Figure size 800x800 with 2 Axes>"
      ]
     },
     "metadata": {},
     "output_type": "display_data"
    }
   ],
   "source": [
    "#\n",
    "peak_df = pd.DataFrame(Travel_time_comparison(peak_subset))\n",
    "no_peak_df = pd.DataFrame(Travel_time_comparison(no_peak_subset))\n",
    "\n",
    "\n",
    "# Instantiate a function to visually represent the comparison of the speed of... \n",
    "# ...different MoTs by origin during \"Peak\" and \"No Peak\" hours\n",
    "def Travel_time_comparison_barcharts(df1, df2): # df1 place holds for peak_df; df2 place holds for no_peak_df\n",
    "    fig, axs = plt.subplots(2, 1, figsize=(8, 8))\n",
    "    df1.plot(kind=\"bar\", \n",
    "             xlabel=\"Origin\",\n",
    "             ylabel= \"Speed\",\n",
    "             title=\"Peak: Travel Time Comparison based on MoT and Origin\",\n",
    "             ax=axs[0]);\n",
    "    df2.plot(kind=\"bar\", \n",
    "             xlabel=\"Origin\",\n",
    "             ylabel= \"Speed\",\n",
    "             title=\"No Peak: Travel Time Comparison based on MoT and Origin\",\n",
    "             ax=axs[1]);\n",
    "    plt.tight_layout() \n",
    "    plt.show()\n",
    "    \n",
    "Travel_time_comparison_barcharts(peak_df, no_peak_df)  "
   ]
  },
  {
   "cell_type": "markdown",
   "id": "f7716e23-956a-4fd5-a8be-bd00125ff74d",
   "metadata": {},
   "source": [
    "# Provide a summary of MOT that warrants the least amount time on the road when traveling from different origins during either peak or nopeak hours.\n",
    "\n",
    "PEAK HOURS\n",
    "1. Birmingham: description\n",
    "2. Bristol: description\n",
    "3. Liverpool: description\n",
    "4. London: description\n",
    "5. Manchester: description\n",
    "6. Newcastle: description\n",
    "\n",
    "\n",
    "NO PEAK HOURS\n",
    "1. Birmingham: description\n",
    "2. Bristol: description\n",
    "3. Liverpool: description\n",
    "4. London: description\n",
    "5. Manchester: description\n",
    "6. Newcastle: description"
   ]
  },
  {
   "cell_type": "markdown",
   "id": "b415be24-7a84-4dee-8639-f7411c82c3a5",
   "metadata": {},
   "source": [
    "Now that we know which modes of transport warrant the least time on the road when traveling from certain origins, we can now check the preference for the use of different modes of transport by people from different origins. People from which origin location should be sensitized most regarding their travel choices on the basis of time spent on the road. "
   ]
  },
  {
   "cell_type": "code",
   "execution_count": 15,
   "id": "0e340ed2-cb14-4d70-ac0e-a05057410f0b",
   "metadata": {},
   "outputs": [
    {
     "data": {
      "text/plain": [
       "['Liverpool', 'Manchester', 'Newcastle', 'Birmingham', 'Bristol', 'London']"
      ]
     },
     "execution_count": 15,
     "metadata": {},
     "output_type": "execute_result"
    }
   ],
   "source": [
    "# Distinct origin locations are in the dataset\n",
    "origins_list = list(journeys_df[\"Origin\"].unique()) \n",
    "origins_list"
   ]
  },
  {
   "cell_type": "code",
   "execution_count": 77,
   "id": "c489b17c-f467-4656-946f-6e8babc386fb",
   "metadata": {},
   "outputs": [],
   "source": [
    "# Loop over the list of origin labels\n",
    "mot_prefrence_groups = []\n",
    "for origin in origins_list:\n",
    "    # Subset \"journeys_df\" into a set containing only one \"origin\" location\n",
    "    origin_mask = journeys_df[journeys_df[\"Origin\"] == origin]\n",
    "    # Group the different MoTs based on the origin\n",
    "    origin_groups = origin_mask.groupby(\"Origin\")[\"Mode of Transport\"].value_counts()\n",
    "    # Visually represent the MoT preference by people from different origin locations\n",
    "    mot_prefrence_groups.append(origin_groups)"
   ]
  },
  {
   "cell_type": "code",
   "execution_count": 89,
   "id": "295d53d6-bf03-449f-b6cf-dad1f4bd453c",
   "metadata": {},
   "outputs": [
    {
     "data": {
      "text/plain": [
       "[Origin     Mode of Transport\n",
       " Liverpool  Petrol Car           133\n",
       "            Bus                   59\n",
       "            Electric Car          21\n",
       "            Train                 17\n",
       " Name: count, dtype: int64,\n",
       " Origin      Mode of Transport\n",
       " Manchester  Petrol Car           139\n",
       "             Bus                   57\n",
       "             Train                 32\n",
       "             Electric Car          24\n",
       "             Walk                   1\n",
       " Name: count, dtype: int64]"
      ]
     },
     "execution_count": 89,
     "metadata": {},
     "output_type": "execute_result"
    }
   ],
   "source": [
    "mot_prefrence_groups[0:2]"
   ]
  },
  {
   "cell_type": "code",
   "execution_count": null,
   "id": "3ec51385-d930-4107-93c1-342c3899cf3f",
   "metadata": {},
   "outputs": [],
   "source": [
    "fig, axs = plt.subplots(3, 3, figsize=(4, 4))\n",
    "row = 0\n",
    "col = 0\n",
    "axis = axs[row, col]\n",
    "det1 = col\n",
    "det2 = row\n",
    "# Represent the findings visually on bar charts\n",
    "for mot_prefrence in mot_prefrence_groups:\n",
    "    if det1 < 3:\n",
    "        col += 1\n",
    "        mot_prefrence.plot(kind=\"bar\", ax=axis)\n",
    "    elif det2 < 2 and det1 > 0:        \n",
    "        row += 1\n",
    "        col -= 1\n",
    "        mot_prefrence.plot(kind=\"bar\", ax=axis)"
   ]
  },
  {
   "cell_type": "code",
   "execution_count": null,
   "id": "0c3f39c8-5c88-405e-8ce7-0eb07bdf7b0f",
   "metadata": {},
   "outputs": [],
   "source": []
  }
 ],
 "metadata": {
  "kernelspec": {
   "display_name": "Python [conda env:base] *",
   "language": "python",
   "name": "conda-base-py"
  },
  "language_info": {
   "codemirror_mode": {
    "name": "ipython",
    "version": 3
   },
   "file_extension": ".py",
   "mimetype": "text/x-python",
   "name": "python",
   "nbconvert_exporter": "python",
   "pygments_lexer": "ipython3",
   "version": "3.12.7"
  }
 },
 "nbformat": 4,
 "nbformat_minor": 5
}

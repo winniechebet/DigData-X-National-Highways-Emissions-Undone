{
 "cells": [
  {
   "cell_type": "code",
   "execution_count": 2,
   "id": "541b511d-98a2-48fa-a223-4b4d393e4951",
   "metadata": {},
   "outputs": [],
   "source": [
    "# Import relevant libraries\n",
    "import pandas as pd"
   ]
  },
  {
   "cell_type": "markdown",
   "id": "df5b1791-552e-4aae-a062-d2c904e59d80",
   "metadata": {},
   "source": [
    "### Import, inspect and clean 6th dataset: 'Delay_Emission_Rate'"
   ]
  },
  {
   "cell_type": "code",
   "execution_count": 4,
   "id": "effd1624-1ce7-41ea-944e-288eeb9b4944",
   "metadata": {},
   "outputs": [],
   "source": [
    "# Load 'Delay_Emission_Rate' dataset into a DataFrame\n",
    "delay_rate_df = pd.read_csv('../raw_datasets/Delay_Emission_Rate dataset.csv')"
   ]
  },
  {
   "cell_type": "code",
   "execution_count": 10,
   "id": "095b6a8b-659c-481c-b230-27654eb103b6",
   "metadata": {},
   "outputs": [
    {
     "name": "stdout",
     "output_type": "stream",
     "text": [
      "<class 'pandas.core.frame.DataFrame'>\n",
      "RangeIndex: 2 entries, 0 to 1\n",
      "Data columns (total 2 columns):\n",
      " #   Column            Non-Null Count  Dtype  \n",
      "---  ------            --------------  -----  \n",
      " 0   Vehicle Type      2 non-null      object \n",
      " 1   Rate (g CO2/sec)  2 non-null      float64\n",
      "dtypes: float64(1), object(1)\n",
      "memory usage: 164.0+ bytes\n"
     ]
    },
    {
     "data": {
      "text/html": [
       "<div>\n",
       "<style scoped>\n",
       "    .dataframe tbody tr th:only-of-type {\n",
       "        vertical-align: middle;\n",
       "    }\n",
       "\n",
       "    .dataframe tbody tr th {\n",
       "        vertical-align: top;\n",
       "    }\n",
       "\n",
       "    .dataframe thead th {\n",
       "        text-align: right;\n",
       "    }\n",
       "</style>\n",
       "<table border=\"1\" class=\"dataframe\">\n",
       "  <thead>\n",
       "    <tr style=\"text-align: right;\">\n",
       "      <th></th>\n",
       "      <th>Vehicle Type</th>\n",
       "      <th>Rate (g CO2/sec)</th>\n",
       "    </tr>\n",
       "  </thead>\n",
       "  <tbody>\n",
       "    <tr>\n",
       "      <th>0</th>\n",
       "      <td>petrol</td>\n",
       "      <td>4.23</td>\n",
       "    </tr>\n",
       "    <tr>\n",
       "      <th>1</th>\n",
       "      <td>petrol hybrid</td>\n",
       "      <td>2.72</td>\n",
       "    </tr>\n",
       "  </tbody>\n",
       "</table>\n",
       "</div>"
      ],
      "text/plain": [
       "    Vehicle Type  Rate (g CO2/sec)\n",
       "0         petrol              4.23\n",
       "1  petrol hybrid              2.72"
      ]
     },
     "execution_count": 10,
     "metadata": {},
     "output_type": "execute_result"
    }
   ],
   "source": [
    "delay_rate_df.info()\n",
    "delay_rate_df.head()"
   ]
  },
  {
   "cell_type": "markdown",
   "id": "42aadc27-8dec-4743-9c28-614c287b8870",
   "metadata": {},
   "source": [
    "### This dataset seems to need only minimal cleaning. I'll re-import the dataset with the name of the second column shortened. That's the only change I'll make. "
   ]
  },
  {
   "cell_type": "code",
   "execution_count": 22,
   "id": "67019c76-c916-4a7b-8f5a-c49cd4c2f2d3",
   "metadata": {},
   "outputs": [],
   "source": [
    "# Re-import'Delay_Emission_Rate' to shorten the label of the second column\n",
    "delay_emm_rate = pd.read_csv('../raw_datasets/Delay_Emission_Rate dataset.csv', names=(['Vehicle Type', 'g(CO2/sec)']))"
   ]
  },
  {
   "cell_type": "code",
   "execution_count": 24,
   "id": "80ae40fd-cedf-4540-92da-cfc5cb3900be",
   "metadata": {},
   "outputs": [
    {
     "data": {
      "text/html": [
       "<div>\n",
       "<style scoped>\n",
       "    .dataframe tbody tr th:only-of-type {\n",
       "        vertical-align: middle;\n",
       "    }\n",
       "\n",
       "    .dataframe tbody tr th {\n",
       "        vertical-align: top;\n",
       "    }\n",
       "\n",
       "    .dataframe thead th {\n",
       "        text-align: right;\n",
       "    }\n",
       "</style>\n",
       "<table border=\"1\" class=\"dataframe\">\n",
       "  <thead>\n",
       "    <tr style=\"text-align: right;\">\n",
       "      <th></th>\n",
       "      <th>Vehicle Type</th>\n",
       "      <th>g(CO2/sec)</th>\n",
       "    </tr>\n",
       "  </thead>\n",
       "  <tbody>\n",
       "    <tr>\n",
       "      <th>0</th>\n",
       "      <td>Vehicle Type</td>\n",
       "      <td>Rate (g CO2/sec)</td>\n",
       "    </tr>\n",
       "    <tr>\n",
       "      <th>1</th>\n",
       "      <td>petrol</td>\n",
       "      <td>4.23</td>\n",
       "    </tr>\n",
       "    <tr>\n",
       "      <th>2</th>\n",
       "      <td>petrol hybrid</td>\n",
       "      <td>2.72</td>\n",
       "    </tr>\n",
       "  </tbody>\n",
       "</table>\n",
       "</div>"
      ],
      "text/plain": [
       "    Vehicle Type        g(CO2/sec)\n",
       "0   Vehicle Type  Rate (g CO2/sec)\n",
       "1         petrol              4.23\n",
       "2  petrol hybrid              2.72"
      ]
     },
     "execution_count": 24,
     "metadata": {},
     "output_type": "execute_result"
    }
   ],
   "source": [
    "delay_emm_rate"
   ]
  },
  {
   "cell_type": "code",
   "execution_count": 26,
   "id": "06447b50-390f-4d81-8b03-65db87af9d52",
   "metadata": {},
   "outputs": [],
   "source": [
    "# Write the cleaned dataset into a CSV file\n",
    "delay_emm_rate.to_csv('../cleaned_datasets/Delay_Emission_Rate.csv', index=False)"
   ]
  }
 ],
 "metadata": {
  "kernelspec": {
   "display_name": "Python [conda env:base] *",
   "language": "python",
   "name": "conda-base-py"
  },
  "language_info": {
   "codemirror_mode": {
    "name": "ipython",
    "version": 3
   },
   "file_extension": ".py",
   "mimetype": "text/x-python",
   "name": "python",
   "nbconvert_exporter": "python",
   "pygments_lexer": "ipython3",
   "version": "3.12.7"
  }
 },
 "nbformat": 4,
 "nbformat_minor": 5
}

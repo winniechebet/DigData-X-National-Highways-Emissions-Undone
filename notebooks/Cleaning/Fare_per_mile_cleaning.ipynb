{
 "cells": [
  {
   "cell_type": "code",
   "execution_count": 3,
   "id": "3aadce1f-998b-40c6-8c57-fb31a32c09c3",
   "metadata": {},
   "outputs": [],
   "source": [
    "import pandas as pd"
   ]
  },
  {
   "cell_type": "markdown",
   "id": "5a052b54-da28-4d82-80a0-98fe4ed8bd0c",
   "metadata": {},
   "source": [
    "## Import, inspect, and clean **the 2nd dataset: 'Fare_per_mile'**\n"
   ]
  },
  {
   "cell_type": "code",
   "execution_count": 22,
   "id": "c40fd7a1-afa5-4432-8665-bdff349eaf24",
   "metadata": {},
   "outputs": [],
   "source": [
    "# Load 'Fare_per_mile' into a DataFrame\n",
    "fpm_df = pd.read_csv('../raw_datasets/Fare_per_mile dataset.csv', usecols=(['Mode of Transport', 'Fare_per_Mile']))"
   ]
  },
  {
   "cell_type": "code",
   "execution_count": 18,
   "id": "e5786f7b-f951-48ef-8140-a0f4393ec296",
   "metadata": {},
   "outputs": [
    {
     "name": "stdout",
     "output_type": "stream",
     "text": [
      "<class 'pandas.core.frame.DataFrame'>\n",
      "RangeIndex: 5 entries, 0 to 4\n",
      "Data columns (total 3 columns):\n",
      " #   Column             Non-Null Count  Dtype  \n",
      "---  ------             --------------  -----  \n",
      " 0   Unnamed: 0         5 non-null      int64  \n",
      " 1   Mode of Transport  5 non-null      object \n",
      " 2   Fare_per_Mile      5 non-null      float64\n",
      "dtypes: float64(1), int64(1), object(1)\n",
      "memory usage: 252.0+ bytes\n"
     ]
    },
    {
     "data": {
      "text/html": [
       "<div>\n",
       "<style scoped>\n",
       "    .dataframe tbody tr th:only-of-type {\n",
       "        vertical-align: middle;\n",
       "    }\n",
       "\n",
       "    .dataframe tbody tr th {\n",
       "        vertical-align: top;\n",
       "    }\n",
       "\n",
       "    .dataframe thead th {\n",
       "        text-align: right;\n",
       "    }\n",
       "</style>\n",
       "<table border=\"1\" class=\"dataframe\">\n",
       "  <thead>\n",
       "    <tr style=\"text-align: right;\">\n",
       "      <th></th>\n",
       "      <th>Unnamed: 0</th>\n",
       "      <th>Mode of Transport</th>\n",
       "      <th>Fare_per_Mile</th>\n",
       "    </tr>\n",
       "  </thead>\n",
       "  <tbody>\n",
       "    <tr>\n",
       "      <th>0</th>\n",
       "      <td>0</td>\n",
       "      <td>Train</td>\n",
       "      <td>0.54</td>\n",
       "    </tr>\n",
       "    <tr>\n",
       "      <th>1</th>\n",
       "      <td>1</td>\n",
       "      <td>Bus</td>\n",
       "      <td>0.04</td>\n",
       "    </tr>\n",
       "    <tr>\n",
       "      <th>2</th>\n",
       "      <td>2</td>\n",
       "      <td>Electric Car</td>\n",
       "      <td>0.09</td>\n",
       "    </tr>\n",
       "    <tr>\n",
       "      <th>3</th>\n",
       "      <td>3</td>\n",
       "      <td>Petrol Car</td>\n",
       "      <td>0.45</td>\n",
       "    </tr>\n",
       "    <tr>\n",
       "      <th>4</th>\n",
       "      <td>4</td>\n",
       "      <td>Walk</td>\n",
       "      <td>0.00</td>\n",
       "    </tr>\n",
       "  </tbody>\n",
       "</table>\n",
       "</div>"
      ],
      "text/plain": [
       "   Unnamed: 0 Mode of Transport  Fare_per_Mile\n",
       "0           0             Train           0.54\n",
       "1           1               Bus           0.04\n",
       "2           2      Electric Car           0.09\n",
       "3           3        Petrol Car           0.45\n",
       "4           4              Walk           0.00"
      ]
     },
     "execution_count": 18,
     "metadata": {},
     "output_type": "execute_result"
    }
   ],
   "source": [
    "# Inspect components of the'Fare_per_mile' df\n",
    "fpm_df.info()\n",
    "fpm_df.head()"
   ]
  },
  {
   "cell_type": "raw",
   "id": "696c506a-ea93-48fe-ab8f-f2d1ddff2ed9",
   "metadata": {},
   "source": [
    "NOTES\n",
    "1. The only cleaning that needs to be done here is dropping the additional index column.\n",
    "2. I can do that by updating the pd.read_csv() function with 'usecols' parameter when loading the dataset.\n",
    "3. It seems that all the datasets have an additional index column. As I go on, I will load them into dataframes and drop them using the usecols parameter.\n",
    "4. Otherwise, this dataset seems clean."
   ]
  },
  {
   "cell_type": "code",
   "execution_count": 24,
   "id": "e31945c6-3990-4348-82dd-035f9da06dff",
   "metadata": {},
   "outputs": [
    {
     "name": "stdout",
     "output_type": "stream",
     "text": [
      "<class 'pandas.core.frame.DataFrame'>\n",
      "RangeIndex: 5 entries, 0 to 4\n",
      "Data columns (total 2 columns):\n",
      " #   Column             Non-Null Count  Dtype  \n",
      "---  ------             --------------  -----  \n",
      " 0   Mode of Transport  5 non-null      object \n",
      " 1   Fare_per_Mile      5 non-null      float64\n",
      "dtypes: float64(1), object(1)\n",
      "memory usage: 212.0+ bytes\n"
     ]
    },
    {
     "data": {
      "text/html": [
       "<div>\n",
       "<style scoped>\n",
       "    .dataframe tbody tr th:only-of-type {\n",
       "        vertical-align: middle;\n",
       "    }\n",
       "\n",
       "    .dataframe tbody tr th {\n",
       "        vertical-align: top;\n",
       "    }\n",
       "\n",
       "    .dataframe thead th {\n",
       "        text-align: right;\n",
       "    }\n",
       "</style>\n",
       "<table border=\"1\" class=\"dataframe\">\n",
       "  <thead>\n",
       "    <tr style=\"text-align: right;\">\n",
       "      <th></th>\n",
       "      <th>Mode of Transport</th>\n",
       "      <th>Fare_per_Mile</th>\n",
       "    </tr>\n",
       "  </thead>\n",
       "  <tbody>\n",
       "    <tr>\n",
       "      <th>0</th>\n",
       "      <td>Train</td>\n",
       "      <td>0.54</td>\n",
       "    </tr>\n",
       "    <tr>\n",
       "      <th>1</th>\n",
       "      <td>Bus</td>\n",
       "      <td>0.04</td>\n",
       "    </tr>\n",
       "    <tr>\n",
       "      <th>2</th>\n",
       "      <td>Electric Car</td>\n",
       "      <td>0.09</td>\n",
       "    </tr>\n",
       "    <tr>\n",
       "      <th>3</th>\n",
       "      <td>Petrol Car</td>\n",
       "      <td>0.45</td>\n",
       "    </tr>\n",
       "    <tr>\n",
       "      <th>4</th>\n",
       "      <td>Walk</td>\n",
       "      <td>0.00</td>\n",
       "    </tr>\n",
       "  </tbody>\n",
       "</table>\n",
       "</div>"
      ],
      "text/plain": [
       "  Mode of Transport  Fare_per_Mile\n",
       "0             Train           0.54\n",
       "1               Bus           0.04\n",
       "2      Electric Car           0.09\n",
       "3        Petrol Car           0.45\n",
       "4              Walk           0.00"
      ]
     },
     "execution_count": 24,
     "metadata": {},
     "output_type": "execute_result"
    }
   ],
   "source": [
    "# Inspect components of the'Fare_per_mile' df\n",
    "fpm_df.info()\n",
    "fpm_df.head()"
   ]
  },
  {
   "cell_type": "code",
   "execution_count": 26,
   "id": "c40e8d1e-ca46-4a85-9c97-a25009d1802e",
   "metadata": {},
   "outputs": [],
   "source": [
    "# Write 'Fare_per_mile' df into a .csv file\n",
    "fpm_df.to_csv('../cleaned_datasets/Fare_per_mile.csv', index=False)"
   ]
  }
 ],
 "metadata": {
  "kernelspec": {
   "display_name": "Python [conda env:base] *",
   "language": "python",
   "name": "conda-base-py"
  },
  "language_info": {
   "codemirror_mode": {
    "name": "ipython",
    "version": 3
   },
   "file_extension": ".py",
   "mimetype": "text/x-python",
   "name": "python",
   "nbconvert_exporter": "python",
   "pygments_lexer": "ipython3",
   "version": "3.12.7"
  }
 },
 "nbformat": 4,
 "nbformat_minor": 5
}

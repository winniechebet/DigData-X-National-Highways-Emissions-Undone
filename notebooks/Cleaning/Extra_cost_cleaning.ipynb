{
 "cells": [
  {
   "cell_type": "code",
   "execution_count": 1,
   "id": "0aa20b03-1a07-4026-b817-a86e81a58e26",
   "metadata": {},
   "outputs": [],
   "source": [
    "import pandas as pd"
   ]
  },
  {
   "cell_type": "code",
   "execution_count": 2,
   "id": "897c91ef-f42b-4a8b-943d-db47988fa393",
   "metadata": {},
   "outputs": [
    {
     "name": "stdout",
     "output_type": "stream",
     "text": [
      "C:\\Users\\chebe\\Downloads\\digdata-emissions-undone\\notebooks\\Cleaning\n"
     ]
    }
   ],
   "source": [
    "import os \n",
    "print(os.getcwd())"
   ]
  },
  {
   "cell_type": "markdown",
   "id": "9bcc7b18-8304-498d-a7a2-44853dc50754",
   "metadata": {},
   "source": [
    "### Import, inspect, and clean **the 3rd dataset: 'Extra Costs'**"
   ]
  },
  {
   "cell_type": "code",
   "execution_count": 4,
   "id": "b6f671a5-4df6-42f4-bd97-0ebee31dfd6b",
   "metadata": {},
   "outputs": [],
   "source": [
    "# Import 'Extra Costs' dataset into a DataFrame\n",
    "x_costs_df = pd.read_csv('../raw_datasets/Extra_Cost_dataset.csv') "
   ]
  },
  {
   "cell_type": "code",
   "execution_count": 5,
   "id": "884ff7eb-601c-49c9-8e8e-73f2a93d0932",
   "metadata": {},
   "outputs": [
    {
     "name": "stdout",
     "output_type": "stream",
     "text": [
      "<class 'pandas.core.frame.DataFrame'>\n",
      "RangeIndex: 5 entries, 0 to 4\n",
      "Data columns (total 7 columns):\n",
      " #   Column        Non-Null Count  Dtype \n",
      "---  ------        --------------  ----- \n",
      " 0   Unnamed: 0.1  5 non-null      int64 \n",
      " 1   Unnamed: 0    3 non-null      object\n",
      " 2   Unnamed: 1    3 non-null      object\n",
      " 3   Unnamed: 2    3 non-null      object\n",
      " 4   Unnamed: 3    3 non-null      object\n",
      " 5   Unnamed: 4    3 non-null      object\n",
      " 6   Unnamed: 5    3 non-null      object\n",
      "dtypes: int64(1), object(6)\n",
      "memory usage: 412.0+ bytes\n"
     ]
    },
    {
     "data": {
      "text/html": [
       "<div>\n",
       "<style scoped>\n",
       "    .dataframe tbody tr th:only-of-type {\n",
       "        vertical-align: middle;\n",
       "    }\n",
       "\n",
       "    .dataframe tbody tr th {\n",
       "        vertical-align: top;\n",
       "    }\n",
       "\n",
       "    .dataframe thead th {\n",
       "        text-align: right;\n",
       "    }\n",
       "</style>\n",
       "<table border=\"1\" class=\"dataframe\">\n",
       "  <thead>\n",
       "    <tr style=\"text-align: right;\">\n",
       "      <th></th>\n",
       "      <th>Unnamed: 0.1</th>\n",
       "      <th>Unnamed: 0</th>\n",
       "      <th>Unnamed: 1</th>\n",
       "      <th>Unnamed: 2</th>\n",
       "      <th>Unnamed: 3</th>\n",
       "      <th>Unnamed: 4</th>\n",
       "      <th>Unnamed: 5</th>\n",
       "    </tr>\n",
       "  </thead>\n",
       "  <tbody>\n",
       "    <tr>\n",
       "      <th>0</th>\n",
       "      <td>0</td>\n",
       "      <td>NaN</td>\n",
       "      <td>NaN</td>\n",
       "      <td>NaN</td>\n",
       "      <td>NaN</td>\n",
       "      <td>NaN</td>\n",
       "      <td>NaN</td>\n",
       "    </tr>\n",
       "    <tr>\n",
       "      <th>1</th>\n",
       "      <td>1</td>\n",
       "      <td>NaN</td>\n",
       "      <td>NaN</td>\n",
       "      <td>NaN</td>\n",
       "      <td>NaN</td>\n",
       "      <td>NaN</td>\n",
       "      <td>NaN</td>\n",
       "    </tr>\n",
       "    <tr>\n",
       "      <th>2</th>\n",
       "      <td>2</td>\n",
       "      <td>Mode of Transport</td>\n",
       "      <td>Parking Fee</td>\n",
       "      <td></td>\n",
       "      <td>Electric Charging Fee per mile</td>\n",
       "      <td></td>\n",
       "      <td>Petrol Fee per mile</td>\n",
       "    </tr>\n",
       "    <tr>\n",
       "      <th>3</th>\n",
       "      <td>3</td>\n",
       "      <td>Electric Car</td>\n",
       "      <td>£0</td>\n",
       "      <td>Electric Car</td>\n",
       "      <td>£0.06</td>\n",
       "      <td>Electric Car</td>\n",
       "      <td>£0</td>\n",
       "    </tr>\n",
       "    <tr>\n",
       "      <th>4</th>\n",
       "      <td>4</td>\n",
       "      <td>Petrol Car</td>\n",
       "      <td>£20</td>\n",
       "      <td>Petrol Car</td>\n",
       "      <td>£0</td>\n",
       "      <td>Petrol Car</td>\n",
       "      <td>£0.04</td>\n",
       "    </tr>\n",
       "  </tbody>\n",
       "</table>\n",
       "</div>"
      ],
      "text/plain": [
       "   Unnamed: 0.1         Unnamed: 0   Unnamed: 1    Unnamed: 2  \\\n",
       "0             0                NaN          NaN           NaN   \n",
       "1             1                NaN          NaN           NaN   \n",
       "2             2  Mode of Transport  Parking Fee                 \n",
       "3             3       Electric Car           £0  Electric Car   \n",
       "4             4         Petrol Car          £20    Petrol Car   \n",
       "\n",
       "                       Unnamed: 3    Unnamed: 4           Unnamed: 5  \n",
       "0                             NaN           NaN                  NaN  \n",
       "1                             NaN           NaN                  NaN  \n",
       "2  Electric Charging Fee per mile                Petrol Fee per mile  \n",
       "3                           £0.06  Electric Car                   £0  \n",
       "4                              £0    Petrol Car                £0.04  "
      ]
     },
     "execution_count": 5,
     "metadata": {},
     "output_type": "execute_result"
    }
   ],
   "source": [
    "# Inspect components of the 'x_costs_df'\n",
    "x_costs_df.info()\n",
    "x_costs_df.head()"
   ]
  },
  {
   "cell_type": "markdown",
   "id": "9a9a9001-4976-4874-a2e2-c1cda0a60b43",
   "metadata": {},
   "source": [
    "## NOTES\n",
    "#### 1. Whoaa! This one needs some good cleaning.\n",
    "#### 2. The header row is inappropriately positioned.\n",
    "#### 3. The problem with an additional index column persists.\n",
    "#### 4. Some columns have been repeated irrelevantly: specifically 'Mode of Transport.'\n",
    "#### 5. One instance of the 'Mode of Transport' column is enough. The others should be dropped."
   ]
  },
  {
   "cell_type": "code",
   "execution_count": 6,
   "id": "bec597ed-616f-4478-a362-4a389980f139",
   "metadata": {},
   "outputs": [
    {
     "data": {
      "text/html": [
       "<div>\n",
       "<style scoped>\n",
       "    .dataframe tbody tr th:only-of-type {\n",
       "        vertical-align: middle;\n",
       "    }\n",
       "\n",
       "    .dataframe tbody tr th {\n",
       "        vertical-align: top;\n",
       "    }\n",
       "\n",
       "    .dataframe thead th {\n",
       "        text-align: right;\n",
       "    }\n",
       "</style>\n",
       "<table border=\"1\" class=\"dataframe\">\n",
       "  <thead>\n",
       "    <tr style=\"text-align: right;\">\n",
       "      <th></th>\n",
       "      <th>addtnl index_col</th>\n",
       "      <th>Mode of Transport</th>\n",
       "      <th>Parking Fee</th>\n",
       "      <th>MoT1</th>\n",
       "      <th>Electric Charging Fee Per Mile</th>\n",
       "      <th>MoT2</th>\n",
       "      <th>Petrol Fee per mile</th>\n",
       "    </tr>\n",
       "  </thead>\n",
       "  <tbody>\n",
       "    <tr>\n",
       "      <th>0</th>\n",
       "      <td>3</td>\n",
       "      <td>Electric Car</td>\n",
       "      <td>£0</td>\n",
       "      <td>Electric Car</td>\n",
       "      <td>£0.06</td>\n",
       "      <td>Electric Car</td>\n",
       "      <td>£0</td>\n",
       "    </tr>\n",
       "    <tr>\n",
       "      <th>1</th>\n",
       "      <td>4</td>\n",
       "      <td>Petrol Car</td>\n",
       "      <td>£20</td>\n",
       "      <td>Petrol Car</td>\n",
       "      <td>£0</td>\n",
       "      <td>Petrol Car</td>\n",
       "      <td>£0.04</td>\n",
       "    </tr>\n",
       "  </tbody>\n",
       "</table>\n",
       "</div>"
      ],
      "text/plain": [
       "   addtnl index_col Mode of Transport Parking Fee          MoT1  \\\n",
       "0                 3      Electric Car          £0  Electric Car   \n",
       "1                 4        Petrol Car         £20    Petrol Car   \n",
       "\n",
       "  Electric Charging Fee Per Mile          MoT2 Petrol Fee per mile  \n",
       "0                          £0.06  Electric Car                  £0  \n",
       "1                             £0    Petrol Car               £0.04  "
      ]
     },
     "execution_count": 6,
     "metadata": {},
     "output_type": "execute_result"
    }
   ],
   "source": [
    "# Re-import 'Extra Costs' dataset to fix organization\n",
    "x_costs_df = pd.read_csv('../raw_datasets/Extra_Cost_dataset.csv',\n",
    "                         skiprows=3, header=0, names=(['addtnl index_col', 'Mode of Transport', 'Parking Fee', 'MoT1',\n",
    "                                                       'Electric Charging Fee Per Mile', 'MoT2', 'Petrol Fee per mile']))\n",
    "# Verify changes\n",
    "x_costs_df"
   ]
  },
  {
   "cell_type": "code",
   "execution_count": 7,
   "id": "2efb300c-3a27-43cb-b7f0-393acd92670a",
   "metadata": {},
   "outputs": [
    {
     "data": {
      "text/html": [
       "<div>\n",
       "<style scoped>\n",
       "    .dataframe tbody tr th:only-of-type {\n",
       "        vertical-align: middle;\n",
       "    }\n",
       "\n",
       "    .dataframe tbody tr th {\n",
       "        vertical-align: top;\n",
       "    }\n",
       "\n",
       "    .dataframe thead th {\n",
       "        text-align: right;\n",
       "    }\n",
       "</style>\n",
       "<table border=\"1\" class=\"dataframe\">\n",
       "  <thead>\n",
       "    <tr style=\"text-align: right;\">\n",
       "      <th></th>\n",
       "      <th>Mode of Transport</th>\n",
       "      <th>Parking Fee</th>\n",
       "      <th>Electric Charging Fee Per Mile</th>\n",
       "      <th>Petrol Fee per mile</th>\n",
       "    </tr>\n",
       "  </thead>\n",
       "  <tbody>\n",
       "    <tr>\n",
       "      <th>0</th>\n",
       "      <td>Electric Car</td>\n",
       "      <td>£0</td>\n",
       "      <td>£0.06</td>\n",
       "      <td>£0</td>\n",
       "    </tr>\n",
       "    <tr>\n",
       "      <th>1</th>\n",
       "      <td>Petrol Car</td>\n",
       "      <td>£20</td>\n",
       "      <td>£0</td>\n",
       "      <td>£0.04</td>\n",
       "    </tr>\n",
       "  </tbody>\n",
       "</table>\n",
       "</div>"
      ],
      "text/plain": [
       "  Mode of Transport Parking Fee Electric Charging Fee Per Mile  \\\n",
       "0      Electric Car          £0                          £0.06   \n",
       "1        Petrol Car         £20                             £0   \n",
       "\n",
       "  Petrol Fee per mile  \n",
       "0                  £0  \n",
       "1               £0.04  "
      ]
     },
     "execution_count": 7,
     "metadata": {},
     "output_type": "execute_result"
    }
   ],
   "source": [
    "# Drop additional index column; the repetitions of the 'Mode of Transport' field\n",
    "x_costs_df.drop(columns=['addtnl index_col', 'MoT1', 'MoT2'], inplace=True)\n",
    "# Verify changes\n",
    "x_costs_df"
   ]
  },
  {
   "cell_type": "markdown",
   "id": "f6f22119-9ec1-45a4-ab1a-5e35e32c4509",
   "metadata": {},
   "source": [
    "## NOTES\n",
    "#### 1. Another issue is that some columns have monetary values yet are stored as objects.\n",
    "#### 2. I will remove the Euro symbol and convert the fields to floats."
   ]
  },
  {
   "cell_type": "code",
   "execution_count": 35,
   "id": "2a6d737f-bc8d-4fa2-aed5-ee50e014e401",
   "metadata": {},
   "outputs": [
    {
     "data": {
      "text/plain": [
       "['Parking Fee', 'Electric Charging Fee Per Mile', 'Petrol Fee per mile']"
      ]
     },
     "execution_count": 35,
     "metadata": {},
     "output_type": "execute_result"
    }
   ],
   "source": [
    "# Store fields of x_costs_df in x_costs_df_cols\n",
    "x_costs_df_cols = (list(x_costs_df.columns))[1:]\n",
    "\n",
    "x_costs_df_cols"
   ]
  },
  {
   "cell_type": "code",
   "execution_count": 25,
   "id": "d9431d08-93b7-48e1-adb4-80b30fab3dd4",
   "metadata": {},
   "outputs": [],
   "source": [
    "# Initiate function to execute dropping of the '£' symbol\n",
    "def drop_euro(col_list):\n",
    "    # Iterate over the fields of x_costs DataFrame to drop the '£' symbol\n",
    "    for i in col_list:\n",
    "        x_costs_df[f'{i}']= x_costs_df[f'{i}'].str.replace('£', '').astype(float)"
   ]
  },
  {
   "cell_type": "code",
   "execution_count": 29,
   "id": "3917b300-6b8a-4786-935c-91a89c5e340d",
   "metadata": {},
   "outputs": [],
   "source": [
    "# Run the function\n",
    "drop_euro(x_costs_df_cols)"
   ]
  },
  {
   "cell_type": "code",
   "execution_count": 31,
   "id": "5c42db81-048c-44a8-b1c4-3566ca2a17e0",
   "metadata": {},
   "outputs": [
    {
     "data": {
      "text/html": [
       "<div>\n",
       "<style scoped>\n",
       "    .dataframe tbody tr th:only-of-type {\n",
       "        vertical-align: middle;\n",
       "    }\n",
       "\n",
       "    .dataframe tbody tr th {\n",
       "        vertical-align: top;\n",
       "    }\n",
       "\n",
       "    .dataframe thead th {\n",
       "        text-align: right;\n",
       "    }\n",
       "</style>\n",
       "<table border=\"1\" class=\"dataframe\">\n",
       "  <thead>\n",
       "    <tr style=\"text-align: right;\">\n",
       "      <th></th>\n",
       "      <th>Mode of Transport</th>\n",
       "      <th>Parking Fee</th>\n",
       "      <th>Electric Charging Fee Per Mile</th>\n",
       "      <th>Petrol Fee per mile</th>\n",
       "    </tr>\n",
       "  </thead>\n",
       "  <tbody>\n",
       "    <tr>\n",
       "      <th>0</th>\n",
       "      <td>Electric Car</td>\n",
       "      <td>0.0</td>\n",
       "      <td>0.06</td>\n",
       "      <td>0.00</td>\n",
       "    </tr>\n",
       "    <tr>\n",
       "      <th>1</th>\n",
       "      <td>Petrol Car</td>\n",
       "      <td>20.0</td>\n",
       "      <td>0.00</td>\n",
       "      <td>0.04</td>\n",
       "    </tr>\n",
       "  </tbody>\n",
       "</table>\n",
       "</div>"
      ],
      "text/plain": [
       "  Mode of Transport  Parking Fee  Electric Charging Fee Per Mile  \\\n",
       "0      Electric Car          0.0                            0.06   \n",
       "1        Petrol Car         20.0                            0.00   \n",
       "\n",
       "   Petrol Fee per mile  \n",
       "0                 0.00  \n",
       "1                 0.04  "
      ]
     },
     "execution_count": 31,
     "metadata": {},
     "output_type": "execute_result"
    }
   ],
   "source": [
    "# Verify '£' has been droped\n",
    "x_costs_df"
   ]
  },
  {
   "cell_type": "code",
   "execution_count": 37,
   "id": "cea76df9-c420-4ae8-952b-3f499e3747e8",
   "metadata": {},
   "outputs": [
    {
     "name": "stdout",
     "output_type": "stream",
     "text": [
      "<class 'pandas.core.frame.DataFrame'>\n",
      "RangeIndex: 2 entries, 0 to 1\n",
      "Data columns (total 4 columns):\n",
      " #   Column                          Non-Null Count  Dtype  \n",
      "---  ------                          --------------  -----  \n",
      " 0   Mode of Transport               2 non-null      object \n",
      " 1   Parking Fee                     2 non-null      float64\n",
      " 2   Electric Charging Fee Per Mile  2 non-null      float64\n",
      " 3   Petrol Fee per mile             2 non-null      float64\n",
      "dtypes: float64(3), object(1)\n",
      "memory usage: 196.0+ bytes\n"
     ]
    },
    {
     "data": {
      "text/html": [
       "<div>\n",
       "<style scoped>\n",
       "    .dataframe tbody tr th:only-of-type {\n",
       "        vertical-align: middle;\n",
       "    }\n",
       "\n",
       "    .dataframe tbody tr th {\n",
       "        vertical-align: top;\n",
       "    }\n",
       "\n",
       "    .dataframe thead th {\n",
       "        text-align: right;\n",
       "    }\n",
       "</style>\n",
       "<table border=\"1\" class=\"dataframe\">\n",
       "  <thead>\n",
       "    <tr style=\"text-align: right;\">\n",
       "      <th></th>\n",
       "      <th>Mode of Transport</th>\n",
       "      <th>Parking Fee</th>\n",
       "      <th>Electric Charging Fee Per Mile</th>\n",
       "      <th>Petrol Fee per mile</th>\n",
       "    </tr>\n",
       "  </thead>\n",
       "  <tbody>\n",
       "    <tr>\n",
       "      <th>0</th>\n",
       "      <td>Electric Car</td>\n",
       "      <td>0.0</td>\n",
       "      <td>0.06</td>\n",
       "      <td>0.00</td>\n",
       "    </tr>\n",
       "    <tr>\n",
       "      <th>1</th>\n",
       "      <td>Petrol Car</td>\n",
       "      <td>20.0</td>\n",
       "      <td>0.00</td>\n",
       "      <td>0.04</td>\n",
       "    </tr>\n",
       "  </tbody>\n",
       "</table>\n",
       "</div>"
      ],
      "text/plain": [
       "  Mode of Transport  Parking Fee  Electric Charging Fee Per Mile  \\\n",
       "0      Electric Car          0.0                            0.06   \n",
       "1        Petrol Car         20.0                            0.00   \n",
       "\n",
       "   Petrol Fee per mile  \n",
       "0                 0.00  \n",
       "1                 0.04  "
      ]
     },
     "execution_count": 37,
     "metadata": {},
     "output_type": "execute_result"
    }
   ],
   "source": [
    "# Inspect components of cleaned 'Extra Costs' df\n",
    "x_costs_df.info()\n",
    "x_costs_df.head()"
   ]
  },
  {
   "cell_type": "markdown",
   "id": "c80c02fd-c343-4863-b7cd-0338afc40fe1",
   "metadata": {},
   "source": [
    "#### 1. The 'Extra Costs' DF is now clean!!"
   ]
  },
  {
   "cell_type": "code",
   "execution_count": 44,
   "id": "68ab6e99-9ba7-4110-8b13-bae9f41dc36b",
   "metadata": {},
   "outputs": [],
   "source": [
    "# Write the cleaned data into a csv file\n",
    "x_costs_df.to_csv('../cleaned_datasets/Extra_Cost.csv', index=False)"
   ]
  }
 ],
 "metadata": {
  "kernelspec": {
   "display_name": "Python [conda env:base] *",
   "language": "python",
   "name": "conda-base-py"
  },
  "language_info": {
   "codemirror_mode": {
    "name": "ipython",
    "version": 3
   },
   "file_extension": ".py",
   "mimetype": "text/x-python",
   "name": "python",
   "nbconvert_exporter": "python",
   "pygments_lexer": "ipython3",
   "version": "3.12.7"
  }
 },
 "nbformat": 4,
 "nbformat_minor": 5
}

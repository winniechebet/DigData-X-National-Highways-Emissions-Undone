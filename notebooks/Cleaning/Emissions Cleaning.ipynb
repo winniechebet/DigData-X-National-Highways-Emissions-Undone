{
 "cells": [
  {
   "cell_type": "code",
   "execution_count": 1,
   "id": "cc12663b-00d9-42ff-82c3-c1bd7a834dd9",
   "metadata": {},
   "outputs": [],
   "source": [
    "# Imoort relevant libraries\n",
    "import pandas as pd"
   ]
  },
  {
   "cell_type": "markdown",
   "id": "06766b71-2896-4cdc-b7fe-fc47789bca43",
   "metadata": {},
   "source": [
    "\n",
    "## Import, inspect and clean 4th dataset: 'Emissions'"
   ]
  },
  {
   "cell_type": "code",
   "execution_count": 3,
   "id": "a99076f3-36d2-43cb-a3d8-520e90af2bbf",
   "metadata": {},
   "outputs": [],
   "source": [
    "# Load 'Emissons' dataset into a DataFrame\n",
    "emissions_df = pd.read_csv('../raw_datasets/Emissions dataset.csv')"
   ]
  },
  {
   "cell_type": "code",
   "execution_count": 4,
   "id": "6546ace2-db22-4694-b683-723d02cd9979",
   "metadata": {},
   "outputs": [
    {
     "data": {
      "text/html": [
       "<div>\n",
       "<style scoped>\n",
       "    .dataframe tbody tr th:only-of-type {\n",
       "        vertical-align: middle;\n",
       "    }\n",
       "\n",
       "    .dataframe tbody tr th {\n",
       "        vertical-align: top;\n",
       "    }\n",
       "\n",
       "    .dataframe thead th {\n",
       "        text-align: right;\n",
       "    }\n",
       "</style>\n",
       "<table border=\"1\" class=\"dataframe\">\n",
       "  <thead>\n",
       "    <tr style=\"text-align: right;\">\n",
       "      <th></th>\n",
       "      <th>Unnamed: 0</th>\n",
       "      <th>Mode of Transport</th>\n",
       "      <th>Emissions per Mile (g CO₂/mile)</th>\n",
       "    </tr>\n",
       "  </thead>\n",
       "  <tbody>\n",
       "    <tr>\n",
       "      <th>0</th>\n",
       "      <td>0</td>\n",
       "      <td>Train</td>\n",
       "      <td>57</td>\n",
       "    </tr>\n",
       "    <tr>\n",
       "      <th>1</th>\n",
       "      <td>1</td>\n",
       "      <td>Bus</td>\n",
       "      <td>44</td>\n",
       "    </tr>\n",
       "    <tr>\n",
       "      <th>2</th>\n",
       "      <td>2</td>\n",
       "      <td>Electric Car (Car Sharing)</td>\n",
       "      <td>44</td>\n",
       "    </tr>\n",
       "    <tr>\n",
       "      <th>3</th>\n",
       "      <td>3</td>\n",
       "      <td>Electric Car (Solo Travel)</td>\n",
       "      <td>88</td>\n",
       "    </tr>\n",
       "    <tr>\n",
       "      <th>4</th>\n",
       "      <td>4</td>\n",
       "      <td>Petrol Car (Car Sharing)</td>\n",
       "      <td>134</td>\n",
       "    </tr>\n",
       "    <tr>\n",
       "      <th>5</th>\n",
       "      <td>5</td>\n",
       "      <td>Petrol Car (Solo Travel)</td>\n",
       "      <td>268</td>\n",
       "    </tr>\n",
       "    <tr>\n",
       "      <th>6</th>\n",
       "      <td>6</td>\n",
       "      <td>Walking</td>\n",
       "      <td>0</td>\n",
       "    </tr>\n",
       "  </tbody>\n",
       "</table>\n",
       "</div>"
      ],
      "text/plain": [
       "   Unnamed: 0           Mode of Transport  Emissions per Mile (g CO₂/mile)\n",
       "0           0                       Train                               57\n",
       "1           1                         Bus                               44\n",
       "2           2  Electric Car (Car Sharing)                               44\n",
       "3           3  Electric Car (Solo Travel)                               88\n",
       "4           4    Petrol Car (Car Sharing)                              134\n",
       "5           5    Petrol Car (Solo Travel)                              268\n",
       "6           6                     Walking                                0"
      ]
     },
     "execution_count": 4,
     "metadata": {},
     "output_type": "execute_result"
    }
   ],
   "source": [
    "emissions_df"
   ]
  },
  {
   "cell_type": "code",
   "execution_count": 5,
   "id": "5f99e333-9dc2-4014-b962-145e2215ea7e",
   "metadata": {},
   "outputs": [],
   "source": [
    "# Re-import 'Emissions' file to shorten label for third column\n",
    "emissions_DF = pd.read_csv('../raw_datasets/Emissions dataset.csv', \n",
    "                           header=0,\n",
    "                           names=(['Unnamed','Mode of Transport', 'CO₂/mile'])\n",
    "                        )"
   ]
  },
  {
   "cell_type": "code",
   "execution_count": 6,
   "id": "6dcbf461-1333-4cf1-bb52-946abd7923b5",
   "metadata": {},
   "outputs": [
    {
     "data": {
      "text/html": [
       "<div>\n",
       "<style scoped>\n",
       "    .dataframe tbody tr th:only-of-type {\n",
       "        vertical-align: middle;\n",
       "    }\n",
       "\n",
       "    .dataframe tbody tr th {\n",
       "        vertical-align: top;\n",
       "    }\n",
       "\n",
       "    .dataframe thead th {\n",
       "        text-align: right;\n",
       "    }\n",
       "</style>\n",
       "<table border=\"1\" class=\"dataframe\">\n",
       "  <thead>\n",
       "    <tr style=\"text-align: right;\">\n",
       "      <th></th>\n",
       "      <th>Unnamed</th>\n",
       "      <th>Mode of Transport</th>\n",
       "      <th>CO₂/mile</th>\n",
       "    </tr>\n",
       "  </thead>\n",
       "  <tbody>\n",
       "    <tr>\n",
       "      <th>0</th>\n",
       "      <td>0</td>\n",
       "      <td>Train</td>\n",
       "      <td>57</td>\n",
       "    </tr>\n",
       "    <tr>\n",
       "      <th>1</th>\n",
       "      <td>1</td>\n",
       "      <td>Bus</td>\n",
       "      <td>44</td>\n",
       "    </tr>\n",
       "    <tr>\n",
       "      <th>2</th>\n",
       "      <td>2</td>\n",
       "      <td>Electric Car (Car Sharing)</td>\n",
       "      <td>44</td>\n",
       "    </tr>\n",
       "    <tr>\n",
       "      <th>3</th>\n",
       "      <td>3</td>\n",
       "      <td>Electric Car (Solo Travel)</td>\n",
       "      <td>88</td>\n",
       "    </tr>\n",
       "    <tr>\n",
       "      <th>4</th>\n",
       "      <td>4</td>\n",
       "      <td>Petrol Car (Car Sharing)</td>\n",
       "      <td>134</td>\n",
       "    </tr>\n",
       "    <tr>\n",
       "      <th>5</th>\n",
       "      <td>5</td>\n",
       "      <td>Petrol Car (Solo Travel)</td>\n",
       "      <td>268</td>\n",
       "    </tr>\n",
       "    <tr>\n",
       "      <th>6</th>\n",
       "      <td>6</td>\n",
       "      <td>Walking</td>\n",
       "      <td>0</td>\n",
       "    </tr>\n",
       "  </tbody>\n",
       "</table>\n",
       "</div>"
      ],
      "text/plain": [
       "   Unnamed           Mode of Transport  CO₂/mile\n",
       "0        0                       Train        57\n",
       "1        1                         Bus        44\n",
       "2        2  Electric Car (Car Sharing)        44\n",
       "3        3  Electric Car (Solo Travel)        88\n",
       "4        4    Petrol Car (Car Sharing)       134\n",
       "5        5    Petrol Car (Solo Travel)       268\n",
       "6        6                     Walking         0"
      ]
     },
     "execution_count": 6,
     "metadata": {},
     "output_type": "execute_result"
    }
   ],
   "source": [
    "emissions_DF"
   ]
  },
  {
   "cell_type": "code",
   "execution_count": 7,
   "id": "39d62d09-3d8d-4b26-8e69-37606beffd91",
   "metadata": {},
   "outputs": [],
   "source": [
    "# Drop extra index column\n",
    "emissions_DF.drop(columns=['Unnamed'], inplace=True)"
   ]
  },
  {
   "cell_type": "code",
   "execution_count": 8,
   "id": "45c7346f-14ad-412d-aa0c-e50818164975",
   "metadata": {},
   "outputs": [
    {
     "data": {
      "text/html": [
       "<div>\n",
       "<style scoped>\n",
       "    .dataframe tbody tr th:only-of-type {\n",
       "        vertical-align: middle;\n",
       "    }\n",
       "\n",
       "    .dataframe tbody tr th {\n",
       "        vertical-align: top;\n",
       "    }\n",
       "\n",
       "    .dataframe thead th {\n",
       "        text-align: right;\n",
       "    }\n",
       "</style>\n",
       "<table border=\"1\" class=\"dataframe\">\n",
       "  <thead>\n",
       "    <tr style=\"text-align: right;\">\n",
       "      <th></th>\n",
       "      <th>Mode of Transport</th>\n",
       "      <th>CO₂/mile</th>\n",
       "    </tr>\n",
       "  </thead>\n",
       "  <tbody>\n",
       "    <tr>\n",
       "      <th>0</th>\n",
       "      <td>Train</td>\n",
       "      <td>57</td>\n",
       "    </tr>\n",
       "    <tr>\n",
       "      <th>1</th>\n",
       "      <td>Bus</td>\n",
       "      <td>44</td>\n",
       "    </tr>\n",
       "    <tr>\n",
       "      <th>2</th>\n",
       "      <td>Electric Car (Car Sharing)</td>\n",
       "      <td>44</td>\n",
       "    </tr>\n",
       "    <tr>\n",
       "      <th>3</th>\n",
       "      <td>Electric Car (Solo Travel)</td>\n",
       "      <td>88</td>\n",
       "    </tr>\n",
       "    <tr>\n",
       "      <th>4</th>\n",
       "      <td>Petrol Car (Car Sharing)</td>\n",
       "      <td>134</td>\n",
       "    </tr>\n",
       "    <tr>\n",
       "      <th>5</th>\n",
       "      <td>Petrol Car (Solo Travel)</td>\n",
       "      <td>268</td>\n",
       "    </tr>\n",
       "    <tr>\n",
       "      <th>6</th>\n",
       "      <td>Walking</td>\n",
       "      <td>0</td>\n",
       "    </tr>\n",
       "  </tbody>\n",
       "</table>\n",
       "</div>"
      ],
      "text/plain": [
       "            Mode of Transport  CO₂/mile\n",
       "0                       Train        57\n",
       "1                         Bus        44\n",
       "2  Electric Car (Car Sharing)        44\n",
       "3  Electric Car (Solo Travel)        88\n",
       "4    Petrol Car (Car Sharing)       134\n",
       "5    Petrol Car (Solo Travel)       268\n",
       "6                     Walking         0"
      ]
     },
     "execution_count": 8,
     "metadata": {},
     "output_type": "execute_result"
    }
   ],
   "source": [
    "emissions_DF"
   ]
  },
  {
   "cell_type": "code",
   "execution_count": 9,
   "id": "555b0975-9dab-4357-94c6-030ef7534d91",
   "metadata": {},
   "outputs": [],
   "source": [
    "# Write cleaned dataset to a csv file\n",
    "emissions_DF.to_csv('../cleaned_datasets/Emissions.csv', index=False)"
   ]
  }
 ],
 "metadata": {
  "kernelspec": {
   "display_name": "Python [conda env:base] *",
   "language": "python",
   "name": "conda-base-py"
  },
  "language_info": {
   "codemirror_mode": {
    "name": "ipython",
    "version": 3
   },
   "file_extension": ".py",
   "mimetype": "text/x-python",
   "name": "python",
   "nbconvert_exporter": "python",
   "pygments_lexer": "ipython3",
   "version": "3.12.7"
  }
 },
 "nbformat": 4,
 "nbformat_minor": 5
}

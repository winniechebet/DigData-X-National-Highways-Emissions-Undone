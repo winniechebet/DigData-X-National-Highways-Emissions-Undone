{
 "cells": [
  {
   "cell_type": "code",
   "execution_count": 18,
   "id": "eb5888c5-6c40-4ffd-af1c-67ec1cc7b954",
   "metadata": {},
   "outputs": [],
   "source": [
    "# Import relevant libraries\n",
    "import pandas as pd"
   ]
  },
  {
   "cell_type": "markdown",
   "id": "510121d6-813d-49ef-b15f-a60b9cff26cd",
   "metadata": {},
   "source": [
    "### Import, inspect and clean 7th dataset: 'Congestion_Factor'"
   ]
  },
  {
   "cell_type": "code",
   "execution_count": 20,
   "id": "ab043a69-a1e9-470b-9427-e3e9247a9e71",
   "metadata": {},
   "outputs": [],
   "source": [
    "# Import 'Congestion_Factor' dataset into a DataFrame\n",
    "congestion_fctr_df = pd.read_csv('../raw_datasets/Congestion Factor dataset.csv')"
   ]
  },
  {
   "cell_type": "code",
   "execution_count": 21,
   "id": "63d8b9f2-6123-419c-9a49-e21a34919ead",
   "metadata": {},
   "outputs": [
    {
     "data": {
      "text/html": [
       "<div>\n",
       "<style scoped>\n",
       "    .dataframe tbody tr th:only-of-type {\n",
       "        vertical-align: middle;\n",
       "    }\n",
       "\n",
       "    .dataframe tbody tr th {\n",
       "        vertical-align: top;\n",
       "    }\n",
       "\n",
       "    .dataframe thead th {\n",
       "        text-align: right;\n",
       "    }\n",
       "</style>\n",
       "<table border=\"1\" class=\"dataframe\">\n",
       "  <thead>\n",
       "    <tr style=\"text-align: right;\">\n",
       "      <th></th>\n",
       "      <th>Unnamed: 0.1</th>\n",
       "      <th>Unnamed: 0</th>\n",
       "      <th>Peak time</th>\n",
       "      <th>Non-peak</th>\n",
       "    </tr>\n",
       "  </thead>\n",
       "  <tbody>\n",
       "    <tr>\n",
       "      <th>0</th>\n",
       "      <td>0</td>\n",
       "      <td>Electric vehicle</td>\n",
       "      <td>1.5</td>\n",
       "      <td>1</td>\n",
       "    </tr>\n",
       "    <tr>\n",
       "      <th>1</th>\n",
       "      <td>1</td>\n",
       "      <td>Petrol car</td>\n",
       "      <td>1.5</td>\n",
       "      <td>1</td>\n",
       "    </tr>\n",
       "    <tr>\n",
       "      <th>2</th>\n",
       "      <td>2</td>\n",
       "      <td>Bus</td>\n",
       "      <td>1.3</td>\n",
       "      <td>1</td>\n",
       "    </tr>\n",
       "    <tr>\n",
       "      <th>3</th>\n",
       "      <td>3</td>\n",
       "      <td>Train</td>\n",
       "      <td>1.1</td>\n",
       "      <td>1</td>\n",
       "    </tr>\n",
       "  </tbody>\n",
       "</table>\n",
       "</div>"
      ],
      "text/plain": [
       "   Unnamed: 0.1        Unnamed: 0  Peak time  Non-peak\n",
       "0             0  Electric vehicle        1.5         1\n",
       "1             1        Petrol car        1.5         1\n",
       "2             2               Bus        1.3         1\n",
       "3             3             Train        1.1         1"
      ]
     },
     "execution_count": 21,
     "metadata": {},
     "output_type": "execute_result"
    }
   ],
   "source": [
    "congestion_fctr_df"
   ]
  },
  {
   "cell_type": "markdown",
   "id": "4194eac7-b6e3-4617-b3ea-fefeeb1bcb56",
   "metadata": {},
   "source": [
    "### Notes on Cleaning\n",
    "### 1. I'll re-import the dataset, rename the 'Vehicle Type' field, and drop the extra index column."
   ]
  },
  {
   "cell_type": "code",
   "execution_count": 23,
   "id": "5e064d2a-41ee-479c-8184-40ef45f35a74",
   "metadata": {},
   "outputs": [],
   "source": [
    "#-Re-import the 'Congestion_Factor' dataset into a DataFrame\n",
    "congstn_factor_df = pd.read_csv('../raw_datasets/Congestion Factor dataset.csv', header=0,\n",
    "                               names=(['Unnamed: 0.1', 'Vehicle Type', 'Peak time', 'Non-peak']))"
   ]
  },
  {
   "cell_type": "code",
   "execution_count": 24,
   "id": "29437ebb-24cb-443f-92d3-21a2ebbb111a",
   "metadata": {},
   "outputs": [
    {
     "data": {
      "text/html": [
       "<div>\n",
       "<style scoped>\n",
       "    .dataframe tbody tr th:only-of-type {\n",
       "        vertical-align: middle;\n",
       "    }\n",
       "\n",
       "    .dataframe tbody tr th {\n",
       "        vertical-align: top;\n",
       "    }\n",
       "\n",
       "    .dataframe thead th {\n",
       "        text-align: right;\n",
       "    }\n",
       "</style>\n",
       "<table border=\"1\" class=\"dataframe\">\n",
       "  <thead>\n",
       "    <tr style=\"text-align: right;\">\n",
       "      <th></th>\n",
       "      <th>Unnamed: 0.1</th>\n",
       "      <th>Vehicle Type</th>\n",
       "      <th>Peak time</th>\n",
       "      <th>Non-peak</th>\n",
       "    </tr>\n",
       "  </thead>\n",
       "  <tbody>\n",
       "    <tr>\n",
       "      <th>0</th>\n",
       "      <td>0</td>\n",
       "      <td>Electric vehicle</td>\n",
       "      <td>1.5</td>\n",
       "      <td>1</td>\n",
       "    </tr>\n",
       "    <tr>\n",
       "      <th>1</th>\n",
       "      <td>1</td>\n",
       "      <td>Petrol car</td>\n",
       "      <td>1.5</td>\n",
       "      <td>1</td>\n",
       "    </tr>\n",
       "    <tr>\n",
       "      <th>2</th>\n",
       "      <td>2</td>\n",
       "      <td>Bus</td>\n",
       "      <td>1.3</td>\n",
       "      <td>1</td>\n",
       "    </tr>\n",
       "    <tr>\n",
       "      <th>3</th>\n",
       "      <td>3</td>\n",
       "      <td>Train</td>\n",
       "      <td>1.1</td>\n",
       "      <td>1</td>\n",
       "    </tr>\n",
       "  </tbody>\n",
       "</table>\n",
       "</div>"
      ],
      "text/plain": [
       "   Unnamed: 0.1      Vehicle Type  Peak time  Non-peak\n",
       "0             0  Electric vehicle        1.5         1\n",
       "1             1        Petrol car        1.5         1\n",
       "2             2               Bus        1.3         1\n",
       "3             3             Train        1.1         1"
      ]
     },
     "execution_count": 24,
     "metadata": {},
     "output_type": "execute_result"
    }
   ],
   "source": [
    "congstn_factor_df"
   ]
  },
  {
   "cell_type": "code",
   "execution_count": 8,
   "id": "7a6f32fa-5e98-4cea-9c4b-5cfc71026434",
   "metadata": {},
   "outputs": [
    {
     "data": {
      "text/html": [
       "<div>\n",
       "<style scoped>\n",
       "    .dataframe tbody tr th:only-of-type {\n",
       "        vertical-align: middle;\n",
       "    }\n",
       "\n",
       "    .dataframe tbody tr th {\n",
       "        vertical-align: top;\n",
       "    }\n",
       "\n",
       "    .dataframe thead th {\n",
       "        text-align: right;\n",
       "    }\n",
       "</style>\n",
       "<table border=\"1\" class=\"dataframe\">\n",
       "  <thead>\n",
       "    <tr style=\"text-align: right;\">\n",
       "      <th></th>\n",
       "      <th>Vehicle Type</th>\n",
       "      <th>Peak time</th>\n",
       "      <th>Non-peak</th>\n",
       "    </tr>\n",
       "  </thead>\n",
       "  <tbody>\n",
       "    <tr>\n",
       "      <th>0</th>\n",
       "      <td>Electric vehicle</td>\n",
       "      <td>1.5</td>\n",
       "      <td>1</td>\n",
       "    </tr>\n",
       "    <tr>\n",
       "      <th>1</th>\n",
       "      <td>Petrol car</td>\n",
       "      <td>1.5</td>\n",
       "      <td>1</td>\n",
       "    </tr>\n",
       "    <tr>\n",
       "      <th>2</th>\n",
       "      <td>Bus</td>\n",
       "      <td>1.3</td>\n",
       "      <td>1</td>\n",
       "    </tr>\n",
       "    <tr>\n",
       "      <th>3</th>\n",
       "      <td>Train</td>\n",
       "      <td>1.1</td>\n",
       "      <td>1</td>\n",
       "    </tr>\n",
       "  </tbody>\n",
       "</table>\n",
       "</div>"
      ],
      "text/plain": [
       "       Vehicle Type  Peak time  Non-peak\n",
       "0  Electric vehicle        1.5         1\n",
       "1        Petrol car        1.5         1\n",
       "2               Bus        1.3         1\n",
       "3             Train        1.1         1"
      ]
     },
     "execution_count": 8,
     "metadata": {},
     "output_type": "execute_result"
    }
   ],
   "source": [
    "# Drop the extra index column\n",
    "congstn_factor_df.drop(columns=['Unnamed: 0.1'], inplace=True)\n",
    "# Verify it has been dropped\n",
    "congstn_factor_df"
   ]
  },
  {
   "cell_type": "code",
   "execution_count": null,
   "id": "020913a4-e01d-4cd6-b855-e9df9f3af37e",
   "metadata": {},
   "outputs": [],
   "source": [
    "# Write the cleaned dataset into a CSV file\n",
    "congstn_factor_df.to_csv('../cleaned_datasets/Congestion Factor.csv', index=False)"
   ]
  }
 ],
 "metadata": {
  "kernelspec": {
   "display_name": "Python [conda env:base] *",
   "language": "python",
   "name": "conda-base-py"
  },
  "language_info": {
   "codemirror_mode": {
    "name": "ipython",
    "version": 3
   },
   "file_extension": ".py",
   "mimetype": "text/x-python",
   "name": "python",
   "nbconvert_exporter": "python",
   "pygments_lexer": "ipython3",
   "version": "3.12.7"
  }
 },
 "nbformat": 4,
 "nbformat_minor": 5
}

{
 "cells": [
  {
   "cell_type": "markdown",
   "id": "a5f98a79-a10c-4d30-bdfd-95f07ca41df1",
   "metadata": {},
   "source": [
    "# Research Question 2:\n",
    "\n",
    "**Question:** On average, is there an age group that spends the most time on the road for each unique \"Origin\" location? Is the age group consistent across all origins, or do the age groups differ by origin? Additionally, is there a unique age group that travels during peak or non-peak hours?\n",
    "\n",
    "**Approach:** This question should be answered by the \"Age Group,\" \"Speed,\" and \"original\" fields . "
   ]
  },
  {
   "cell_type": "code",
   "execution_count": 2,
   "id": "0af9dcde-3861-485b-b0c0-56b4b759f466",
   "metadata": {},
   "outputs": [],
   "source": [
    "# Import relevant libraries\n",
    "import pandas as pd\n",
    "import matplotlib.pyplot as plt"
   ]
  },
  {
   "cell_type": "code",
   "execution_count": 3,
   "id": "197f9496-a134-4ea3-83ba-ec0c2dbd74f7",
   "metadata": {},
   "outputs": [
    {
     "data": {
      "text/html": [
       "<div>\n",
       "<style scoped>\n",
       "    .dataframe tbody tr th:only-of-type {\n",
       "        vertical-align: middle;\n",
       "    }\n",
       "\n",
       "    .dataframe tbody tr th {\n",
       "        vertical-align: top;\n",
       "    }\n",
       "\n",
       "    .dataframe thead th {\n",
       "        text-align: right;\n",
       "    }\n",
       "</style>\n",
       "<table border=\"1\" class=\"dataframe\">\n",
       "  <thead>\n",
       "    <tr style=\"text-align: right;\">\n",
       "      <th></th>\n",
       "      <th>Origin</th>\n",
       "      <th>Mode of Transport</th>\n",
       "      <th>Distance</th>\n",
       "      <th>Travel Time</th>\n",
       "      <th>Age Group</th>\n",
       "      <th>Weather</th>\n",
       "      <th>Peak/NoPeak</th>\n",
       "      <th>Day</th>\n",
       "    </tr>\n",
       "  </thead>\n",
       "  <tbody>\n",
       "    <tr>\n",
       "      <th>0</th>\n",
       "      <td>Liverpool</td>\n",
       "      <td>Petrol Car</td>\n",
       "      <td>52.8</td>\n",
       "      <td>1.5</td>\n",
       "      <td>18-24</td>\n",
       "      <td>Rain</td>\n",
       "      <td>No Peak</td>\n",
       "      <td>Weekend</td>\n",
       "    </tr>\n",
       "    <tr>\n",
       "      <th>1</th>\n",
       "      <td>Manchester</td>\n",
       "      <td>Bus</td>\n",
       "      <td>88.1</td>\n",
       "      <td>1.8</td>\n",
       "      <td>18-24</td>\n",
       "      <td>Sunny</td>\n",
       "      <td>Peak</td>\n",
       "      <td>Weekend</td>\n",
       "    </tr>\n",
       "    <tr>\n",
       "      <th>2</th>\n",
       "      <td>Liverpool</td>\n",
       "      <td>Petrol Car</td>\n",
       "      <td>82.5</td>\n",
       "      <td>1.5</td>\n",
       "      <td>35-44</td>\n",
       "      <td>Cloudy</td>\n",
       "      <td>Peak</td>\n",
       "      <td>Weekend</td>\n",
       "    </tr>\n",
       "    <tr>\n",
       "      <th>3</th>\n",
       "      <td>Newcastle</td>\n",
       "      <td>Petrol Car</td>\n",
       "      <td>64.2</td>\n",
       "      <td>1.7</td>\n",
       "      <td>55-64</td>\n",
       "      <td>Rain</td>\n",
       "      <td>Peak</td>\n",
       "      <td>Weekday</td>\n",
       "    </tr>\n",
       "    <tr>\n",
       "      <th>4</th>\n",
       "      <td>Newcastle</td>\n",
       "      <td>Petrol Car</td>\n",
       "      <td>115.8</td>\n",
       "      <td>0.7</td>\n",
       "      <td>18-24</td>\n",
       "      <td>Rain</td>\n",
       "      <td>Peak</td>\n",
       "      <td>Weekday</td>\n",
       "    </tr>\n",
       "  </tbody>\n",
       "</table>\n",
       "</div>"
      ],
      "text/plain": [
       "       Origin Mode of Transport  Distance  Travel Time Age Group Weather  \\\n",
       "0   Liverpool        Petrol Car      52.8          1.5     18-24    Rain   \n",
       "1  Manchester               Bus      88.1          1.8     18-24   Sunny   \n",
       "2   Liverpool        Petrol Car      82.5          1.5     35-44  Cloudy   \n",
       "3   Newcastle        Petrol Car      64.2          1.7     55-64    Rain   \n",
       "4   Newcastle        Petrol Car     115.8          0.7     18-24    Rain   \n",
       "\n",
       "  Peak/NoPeak      Day  \n",
       "0     No Peak  Weekend  \n",
       "1        Peak  Weekend  \n",
       "2        Peak  Weekend  \n",
       "3        Peak  Weekday  \n",
       "4        Peak  Weekday  "
      ]
     },
     "execution_count": 3,
     "metadata": {},
     "output_type": "execute_result"
    }
   ],
   "source": [
    "# Load the main dataset \"Festival's Journey\" into a DataFrame\n",
    "journeys_df = pd.read_csv(\"../cleaned_datasets/Festivals_journeys_dataset.csv\")\n",
    "journeys_df.head()"
   ]
  },
  {
   "cell_type": "code",
   "execution_count": 4,
   "id": "02b55a6c-ccc5-4de5-b539-638b686a1908",
   "metadata": {},
   "outputs": [
    {
     "data": {
      "text/plain": [
       "['18-24', '35-44', '55-64', '25-34', '45-54', '65+']"
      ]
     },
     "execution_count": 4,
     "metadata": {},
     "output_type": "execute_result"
    }
   ],
   "source": [
    "# Check the distinct age-groups present in the dataset\n",
    "list(journeys_df[\"Age Group\"].unique())"
   ]
  },
  {
   "cell_type": "code",
   "execution_count": 22,
   "id": "3adb6114-5027-4160-88fa-99cf6016241c",
   "metadata": {},
   "outputs": [
    {
     "data": {
      "text/plain": [
       "<Axes: title={'center': 'Average Travel Time of Each Age Group '}, xlabel='Age Group', ylabel='Time (Hours)'>"
      ]
     },
     "execution_count": 22,
     "metadata": {},
     "output_type": "execute_result"
    },
    {
     "data": {
      "image/png": "[encoded data removed]",
      "text/plain": [
       "<Figure size 640x480 with 1 Axes>"
      ]
     },
     "metadata": {},
     "output_type": "display_data"
    }
   ],
   "source": [
    "# Calculate the average time spent by each disticnt age group to reach the festival destination\n",
    "travel_time_by_age_group = journeys_df.groupby(\"Age Group\")[\"Travel Time\"].mean()\n",
    "travel_time_by_age_group.sort_values().plot(kind=\"bar\",\n",
    "                                            title = \"Average Travel Time of Each Age Group \",\n",
    "                                            ylabel = \"Time (Hours)\")"
   ]
  },
  {
   "cell_type": "code",
   "execution_count": null,
   "id": "d07e99ed-ff1f-4f62-830a-86fb9e6cbefa",
   "metadata": {},
   "outputs": [],
   "source": []
  },
  {
   "cell_type": "code",
   "execution_count": null,
   "id": "cc72d2fa-ec69-42b7-9279-032b8978c28f",
   "metadata": {},
   "outputs": [],
   "source": []
  },
  {
   "cell_type": "code",
   "execution_count": null,
   "id": "543920c6-a989-4daf-9f03-3131888c76e4",
   "metadata": {},
   "outputs": [],
   "source": []
  }
 ],
 "metadata": {
  "kernelspec": {
   "display_name": "Python [conda env:base] *",
   "language": "python",
   "name": "conda-base-py"
  },
  "language_info": {
   "codemirror_mode": {
    "name": "ipython",
    "version": 3
   },
   "file_extension": ".py",
   "mimetype": "text/x-python",
   "name": "python",
   "nbconvert_exporter": "python",
   "pygments_lexer": "ipython3",
   "version": "3.12.7"
  }
 },
 "nbformat": 4,
 "nbformat_minor": 5
}
